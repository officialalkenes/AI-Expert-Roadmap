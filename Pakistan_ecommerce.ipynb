{
  "cells": [
    {
      "cell_type": "markdown",
      "metadata": {
        "id": "view-in-github",
        "colab_type": "text"
      },
      "source": [
        "<a href=\"https://colab.research.google.com/github/officialalkenes/AI-Expert-Roadmap/blob/main/Pakistan_ecommerce.ipynb\" target=\"_parent\"><img src=\"https://colab.research.google.com/assets/colab-badge.svg\" alt=\"Open In Colab\"/></a>"
      ]
    },
    {
      "cell_type": "markdown",
      "metadata": {
        "id": "yFys9K4R4-TP"
      },
      "source": [
        "# Table of Contents\n",
        "\n",
        "1. [Introduction](#Introduction)\n",
        "2. [Problem Statement](#Problem-Statement)\n",
        "3. [Data Collection](#Data-collection)\n",
        "4. [Data Exploration](#Exploration)\n",
        "5. [Overview of the Dataset](#Data-Overview)\n",
        "6. [Data Cleaning](#Data-Cleaning)\n",
        "7. [Descriptive Statistics](#Description)\n",
        "\n",
        "\n",
        "<!-- Complete this Table of Content -->\n",
        "Exploratory Data Analysis (EDA)\n",
        "Analysis of Product Categories\n",
        "Customer Behavior\n",
        "Sales Trends\n",
        "Data Visualization\n",
        "Conclusion\n",
        "Future Work"
      ]
    },
    {
      "cell_type": "markdown",
      "metadata": {
        "id": "K7GBR0j56-Eg"
      },
      "source": [
        "#Introduction"
      ]
    },
    {
      "cell_type": "markdown",
      "metadata": {
        "id": "aqnptYSb7SMe"
      },
      "source": [
        "#Data-collection"
      ]
    },
    {
      "cell_type": "code",
      "execution_count": null,
      "metadata": {
        "id": "DFSDNKtE7UWW"
      },
      "outputs": [],
      "source": [
        "import pandas as pd\n",
        "import matplotlib.pyplot as plt\n",
        "import seaborn as sns"
      ]
    },
    {
      "cell_type": "markdown",
      "metadata": {
        "id": "TnLaWmre7cq3"
      },
      "source": [
        "\n",
        "\n",
        "### Unzip zipped csv file\n"
      ]
    },
    {
      "cell_type": "code",
      "execution_count": null,
      "metadata": {
        "id": "q0PX5gEK7cXL"
      },
      "outputs": [],
      "source": [
        "import os\n",
        "\n",
        "file_path = \"/content/Pakistan Largest Ecommerce Dataset.csv\"\n",
        "\n",
        "if os.path.exists(file_path):\n",
        "  pass\n",
        "else:\n",
        "  !unzip \"/content/pakistan-ecommerce.zip\""
      ]
    },
    {
      "cell_type": "code",
      "execution_count": null,
      "metadata": {
        "colab": {
          "base_uri": "https://localhost:8080/"
        },
        "id": "g_EalO8r7aY1",
        "outputId": "35d34726-83be-4dac-f9ba-df41c12f5f52"
      },
      "outputs": [
        {
          "output_type": "stream",
          "name": "stderr",
          "text": [
            "<ipython-input-3-6117b9b1d7db>:1: DtypeWarning: Columns (1,2,3,7,8,9,11,12,13,14,17,18,19) have mixed types. Specify dtype option on import or set low_memory=False.\n",
            "  df = pd.read_csv(\"/content/Pakistan Largest Ecommerce Dataset.csv\", encoding='ISO-8859-1')\n"
          ]
        }
      ],
      "source": [
        "df = pd.read_csv(\"/content/Pakistan Largest Ecommerce Dataset.csv\", encoding='ISO-8859-1')"
      ]
    },
    {
      "cell_type": "code",
      "execution_count": null,
      "metadata": {
        "colab": {
          "base_uri": "https://localhost:8080/"
        },
        "id": "3oBTmS709fbI",
        "outputId": "2022a58a-cd59-463f-85ff-080b5b89c4e1"
      },
      "outputs": [
        {
          "output_type": "stream",
          "name": "stdout",
          "text": [
            "<class 'pandas.core.frame.DataFrame'>\n",
            "RangeIndex: 1048575 entries, 0 to 1048574\n",
            "Data columns (total 26 columns):\n",
            " #   Column                 Non-Null Count   Dtype  \n",
            "---  ------                 --------------   -----  \n",
            " 0   item_id                584524 non-null  float64\n",
            " 1   status                 584509 non-null  object \n",
            " 2   created_at             584524 non-null  object \n",
            " 3   sku                    584504 non-null  object \n",
            " 4   price                  584524 non-null  float64\n",
            " 5   qty_ordered            584524 non-null  float64\n",
            " 6   grand_total            584524 non-null  float64\n",
            " 7   increment_id           584524 non-null  object \n",
            " 8   category_name_1        584360 non-null  object \n",
            " 9   sales_commission_code  447349 non-null  object \n",
            " 10  discount_amount        584524 non-null  float64\n",
            " 11  payment_method         584524 non-null  object \n",
            " 12  Working Date           584524 non-null  object \n",
            " 13  BI Status              584524 non-null  object \n",
            " 14   MV                    584524 non-null  object \n",
            " 15  Year                   584524 non-null  float64\n",
            " 16  Month                  584524 non-null  float64\n",
            " 17  Customer Since         584513 non-null  object \n",
            " 18  M-Y                    584524 non-null  object \n",
            " 19  FY                     584524 non-null  object \n",
            " 20  Customer ID            584513 non-null  float64\n",
            " 21  Unnamed: 21            0 non-null       float64\n",
            " 22  Unnamed: 22            0 non-null       float64\n",
            " 23  Unnamed: 23            0 non-null       float64\n",
            " 24  Unnamed: 24            0 non-null       float64\n",
            " 25  Unnamed: 25            0 non-null       float64\n",
            "dtypes: float64(13), object(13)\n",
            "memory usage: 208.0+ MB\n"
          ]
        }
      ],
      "source": [
        "df.info()"
      ]
    },
    {
      "cell_type": "code",
      "execution_count": null,
      "metadata": {
        "id": "CSoTsivN4Utp"
      },
      "outputs": [],
      "source": [
        "df = df.drop(columns=[\"Customer ID\", 'Unnamed: 21', 'Unnamed: 22', 'Unnamed: 23', 'Unnamed: 24', 'Unnamed: 25',\"item_id\",\"sku\", 'sales_commission_code'])"
      ]
    },
    {
      "cell_type": "code",
      "execution_count": null,
      "metadata": {
        "id": "7ezjePEt4MIt",
        "colab": {
          "base_uri": "https://localhost:8080/"
        },
        "outputId": "bb4d33c5-7951-42a0-bdf9-cd1f156df546"
      },
      "outputs": [
        {
          "output_type": "stream",
          "name": "stdout",
          "text": [
            "<class 'pandas.core.frame.DataFrame'>\n",
            "RangeIndex: 1048575 entries, 0 to 1048574\n",
            "Data columns (total 17 columns):\n",
            " #   Column           Non-Null Count   Dtype  \n",
            "---  ------           --------------   -----  \n",
            " 0   status           584509 non-null  object \n",
            " 1   created_at       584524 non-null  object \n",
            " 2   price            584524 non-null  float64\n",
            " 3   qty_ordered      584524 non-null  float64\n",
            " 4   grand_total      584524 non-null  float64\n",
            " 5   increment_id     584524 non-null  object \n",
            " 6   category_name_1  584360 non-null  object \n",
            " 7   discount_amount  584524 non-null  float64\n",
            " 8   payment_method   584524 non-null  object \n",
            " 9   Working Date     584524 non-null  object \n",
            " 10  BI Status        584524 non-null  object \n",
            " 11   MV              584524 non-null  object \n",
            " 12  Year             584524 non-null  float64\n",
            " 13  Month            584524 non-null  float64\n",
            " 14  Customer Since   584513 non-null  object \n",
            " 15  M-Y              584524 non-null  object \n",
            " 16  FY               584524 non-null  object \n",
            "dtypes: float64(6), object(11)\n",
            "memory usage: 136.0+ MB\n"
          ]
        }
      ],
      "source": [
        "df.info()"
      ]
    },
    {
      "cell_type": "code",
      "execution_count": null,
      "metadata": {
        "id": "YewHtCOzBHeb"
      },
      "outputs": [],
      "source": [
        "df = df.dropna()"
      ]
    },
    {
      "cell_type": "code",
      "execution_count": null,
      "metadata": {
        "id": "1jr4BnRXBtet",
        "colab": {
          "base_uri": "https://localhost:8080/"
        },
        "outputId": "8de3a1e8-d7a8-4be6-fee1-db2689a7abe7"
      },
      "outputs": [
        {
          "output_type": "stream",
          "name": "stdout",
          "text": [
            "<class 'pandas.core.frame.DataFrame'>\n",
            "Int64Index: 584334 entries, 0 to 584523\n",
            "Data columns (total 17 columns):\n",
            " #   Column           Non-Null Count   Dtype  \n",
            "---  ------           --------------   -----  \n",
            " 0   status           584334 non-null  object \n",
            " 1   created_at       584334 non-null  object \n",
            " 2   price            584334 non-null  float64\n",
            " 3   qty_ordered      584334 non-null  float64\n",
            " 4   grand_total      584334 non-null  float64\n",
            " 5   increment_id     584334 non-null  object \n",
            " 6   category_name_1  584334 non-null  object \n",
            " 7   discount_amount  584334 non-null  float64\n",
            " 8   payment_method   584334 non-null  object \n",
            " 9   Working Date     584334 non-null  object \n",
            " 10  BI Status        584334 non-null  object \n",
            " 11   MV              584334 non-null  object \n",
            " 12  Year             584334 non-null  float64\n",
            " 13  Month            584334 non-null  float64\n",
            " 14  Customer Since   584334 non-null  object \n",
            " 15  M-Y              584334 non-null  object \n",
            " 16  FY               584334 non-null  object \n",
            "dtypes: float64(6), object(11)\n",
            "memory usage: 80.2+ MB\n"
          ]
        }
      ],
      "source": [
        "df.info()"
      ]
    },
    {
      "cell_type": "code",
      "execution_count": null,
      "metadata": {
        "id": "MWq8DHGsBwKo"
      },
      "outputs": [],
      "source": [
        "# Data Processing\n",
        "\n",
        "# year, month, convert to int =>\n",
        "# day and discount_percentage create new columns =>\n",
        "# rename category_name_1 to category\n",
        "# Drop M-Y\tFY\n",
        "\n",
        "# univariate analysis on\n",
        "# status, category, payment_method\n",
        "\n",
        "\n"
      ]
    },
    {
      "cell_type": "code",
      "execution_count": null,
      "metadata": {
        "id": "NDEiID9-C4ny",
        "colab": {
          "base_uri": "https://localhost:8080/",
          "height": 135
        },
        "outputId": "1952e413-94cf-4b01-be6f-25ca16176325"
      },
      "outputs": [
        {
          "output_type": "execute_result",
          "data": {
            "text/plain": [
              "          status created_at    price  qty_ordered  grand_total increment_id  \\\n",
              "301145  canceled   9/8/2017  97000.0          1.0      97000.0    100356806   \n",
              "\n",
              "          category_name_1  discount_amount payment_method Working Date  \\\n",
              "301145  Mobiles & Tablets              0.0        Payaxis     9/8/2017   \n",
              "\n",
              "       BI Status       MV     Year  Month Customer Since     M-Y    FY  \n",
              "301145     Gross   97,000   2017.0    9.0         2017-9  9-2017  FY18  "
            ],
            "text/html": [
              "\n",
              "  <div id=\"df-0d31624c-f2bd-4de4-9ac9-743e0e37aed2\" class=\"colab-df-container\">\n",
              "    <div>\n",
              "<style scoped>\n",
              "    .dataframe tbody tr th:only-of-type {\n",
              "        vertical-align: middle;\n",
              "    }\n",
              "\n",
              "    .dataframe tbody tr th {\n",
              "        vertical-align: top;\n",
              "    }\n",
              "\n",
              "    .dataframe thead th {\n",
              "        text-align: right;\n",
              "    }\n",
              "</style>\n",
              "<table border=\"1\" class=\"dataframe\">\n",
              "  <thead>\n",
              "    <tr style=\"text-align: right;\">\n",
              "      <th></th>\n",
              "      <th>status</th>\n",
              "      <th>created_at</th>\n",
              "      <th>price</th>\n",
              "      <th>qty_ordered</th>\n",
              "      <th>grand_total</th>\n",
              "      <th>increment_id</th>\n",
              "      <th>category_name_1</th>\n",
              "      <th>discount_amount</th>\n",
              "      <th>payment_method</th>\n",
              "      <th>Working Date</th>\n",
              "      <th>BI Status</th>\n",
              "      <th>MV</th>\n",
              "      <th>Year</th>\n",
              "      <th>Month</th>\n",
              "      <th>Customer Since</th>\n",
              "      <th>M-Y</th>\n",
              "      <th>FY</th>\n",
              "    </tr>\n",
              "  </thead>\n",
              "  <tbody>\n",
              "    <tr>\n",
              "      <th>301145</th>\n",
              "      <td>canceled</td>\n",
              "      <td>9/8/2017</td>\n",
              "      <td>97000.0</td>\n",
              "      <td>1.0</td>\n",
              "      <td>97000.0</td>\n",
              "      <td>100356806</td>\n",
              "      <td>Mobiles &amp; Tablets</td>\n",
              "      <td>0.0</td>\n",
              "      <td>Payaxis</td>\n",
              "      <td>9/8/2017</td>\n",
              "      <td>Gross</td>\n",
              "      <td>97,000</td>\n",
              "      <td>2017.0</td>\n",
              "      <td>9.0</td>\n",
              "      <td>2017-9</td>\n",
              "      <td>9-2017</td>\n",
              "      <td>FY18</td>\n",
              "    </tr>\n",
              "  </tbody>\n",
              "</table>\n",
              "</div>\n",
              "    <div class=\"colab-df-buttons\">\n",
              "\n",
              "  <div class=\"colab-df-container\">\n",
              "    <button class=\"colab-df-convert\" onclick=\"convertToInteractive('df-0d31624c-f2bd-4de4-9ac9-743e0e37aed2')\"\n",
              "            title=\"Convert this dataframe to an interactive table.\"\n",
              "            style=\"display:none;\">\n",
              "\n",
              "  <svg xmlns=\"http://www.w3.org/2000/svg\" height=\"24px\" viewBox=\"0 -960 960 960\">\n",
              "    <path d=\"M120-120v-720h720v720H120Zm60-500h600v-160H180v160Zm220 220h160v-160H400v160Zm0 220h160v-160H400v160ZM180-400h160v-160H180v160Zm440 0h160v-160H620v160ZM180-180h160v-160H180v160Zm440 0h160v-160H620v160Z\"/>\n",
              "  </svg>\n",
              "    </button>\n",
              "\n",
              "  <style>\n",
              "    .colab-df-container {\n",
              "      display:flex;\n",
              "      gap: 12px;\n",
              "    }\n",
              "\n",
              "    .colab-df-convert {\n",
              "      background-color: #E8F0FE;\n",
              "      border: none;\n",
              "      border-radius: 50%;\n",
              "      cursor: pointer;\n",
              "      display: none;\n",
              "      fill: #1967D2;\n",
              "      height: 32px;\n",
              "      padding: 0 0 0 0;\n",
              "      width: 32px;\n",
              "    }\n",
              "\n",
              "    .colab-df-convert:hover {\n",
              "      background-color: #E2EBFA;\n",
              "      box-shadow: 0px 1px 2px rgba(60, 64, 67, 0.3), 0px 1px 3px 1px rgba(60, 64, 67, 0.15);\n",
              "      fill: #174EA6;\n",
              "    }\n",
              "\n",
              "    .colab-df-buttons div {\n",
              "      margin-bottom: 4px;\n",
              "    }\n",
              "\n",
              "    [theme=dark] .colab-df-convert {\n",
              "      background-color: #3B4455;\n",
              "      fill: #D2E3FC;\n",
              "    }\n",
              "\n",
              "    [theme=dark] .colab-df-convert:hover {\n",
              "      background-color: #434B5C;\n",
              "      box-shadow: 0px 1px 3px 1px rgba(0, 0, 0, 0.15);\n",
              "      filter: drop-shadow(0px 1px 2px rgba(0, 0, 0, 0.3));\n",
              "      fill: #FFFFFF;\n",
              "    }\n",
              "  </style>\n",
              "\n",
              "    <script>\n",
              "      const buttonEl =\n",
              "        document.querySelector('#df-0d31624c-f2bd-4de4-9ac9-743e0e37aed2 button.colab-df-convert');\n",
              "      buttonEl.style.display =\n",
              "        google.colab.kernel.accessAllowed ? 'block' : 'none';\n",
              "\n",
              "      async function convertToInteractive(key) {\n",
              "        const element = document.querySelector('#df-0d31624c-f2bd-4de4-9ac9-743e0e37aed2');\n",
              "        const dataTable =\n",
              "          await google.colab.kernel.invokeFunction('convertToInteractive',\n",
              "                                                    [key], {});\n",
              "        if (!dataTable) return;\n",
              "\n",
              "        const docLinkHtml = 'Like what you see? Visit the ' +\n",
              "          '<a target=\"_blank\" href=https://colab.research.google.com/notebooks/data_table.ipynb>data table notebook</a>'\n",
              "          + ' to learn more about interactive tables.';\n",
              "        element.innerHTML = '';\n",
              "        dataTable['output_type'] = 'display_data';\n",
              "        await google.colab.output.renderOutput(dataTable, element);\n",
              "        const docLink = document.createElement('div');\n",
              "        docLink.innerHTML = docLinkHtml;\n",
              "        element.appendChild(docLink);\n",
              "      }\n",
              "    </script>\n",
              "  </div>\n",
              "\n",
              "\n",
              "    </div>\n",
              "  </div>\n"
            ]
          },
          "metadata": {},
          "execution_count": 10
        }
      ],
      "source": [
        "df.sample()"
      ]
    },
    {
      "cell_type": "code",
      "execution_count": null,
      "metadata": {
        "id": "MOMJICVMC79d"
      },
      "outputs": [],
      "source": [
        "df['Year'] = df['Year'].astype(int)\n",
        "df['Month'] = df['Month'].astype(int)"
      ]
    },
    {
      "cell_type": "code",
      "execution_count": null,
      "metadata": {
        "id": "w5QP4nNxpNxr"
      },
      "outputs": [],
      "source": [
        "df['discount_percentage'] = (df['discount_amount']/ df['grand_total']) * 100"
      ]
    },
    {
      "cell_type": "code",
      "execution_count": null,
      "metadata": {
        "id": "EygjIM2-peCw"
      },
      "outputs": [],
      "source": [
        "df['created_at'] = pd.to_datetime(df['created_at'])"
      ]
    },
    {
      "cell_type": "code",
      "execution_count": null,
      "metadata": {
        "id": "XwJmvi8Gq3PF"
      },
      "outputs": [],
      "source": [
        "df['day'] = df['created_at'].dt.day"
      ]
    },
    {
      "cell_type": "code",
      "execution_count": null,
      "metadata": {
        "id": "oxp3lgPHE02e"
      },
      "outputs": [],
      "source": [
        "df['Customer Since'] = pd.to_datetime(df['Customer Since'])"
      ]
    },
    {
      "cell_type": "code",
      "execution_count": null,
      "metadata": {
        "id": "KnK13_0GE29f"
      },
      "outputs": [],
      "source": [
        "df = df.rename(\n",
        "    columns ={\n",
        "         \"category_name_1\": \"category\",\n",
        "})"
      ]
    },
    {
      "cell_type": "code",
      "execution_count": null,
      "metadata": {
        "id": "5YpLLAqptV8v",
        "colab": {
          "base_uri": "https://localhost:8080/"
        },
        "outputId": "2ccd7acd-98dc-40e3-ef34-5321ae8d2c30"
      },
      "outputs": [
        {
          "output_type": "stream",
          "name": "stdout",
          "text": [
            "<class 'pandas.core.frame.DataFrame'>\n",
            "Int64Index: 584334 entries, 0 to 584523\n",
            "Data columns (total 19 columns):\n",
            " #   Column               Non-Null Count   Dtype         \n",
            "---  ------               --------------   -----         \n",
            " 0   status               584334 non-null  object        \n",
            " 1   created_at           584334 non-null  datetime64[ns]\n",
            " 2   price                584334 non-null  float64       \n",
            " 3   qty_ordered          584334 non-null  float64       \n",
            " 4   grand_total          584334 non-null  float64       \n",
            " 5   increment_id         584334 non-null  object        \n",
            " 6   category             584334 non-null  object        \n",
            " 7   discount_amount      584334 non-null  float64       \n",
            " 8   payment_method       584334 non-null  object        \n",
            " 9   Working Date         584334 non-null  object        \n",
            " 10  BI Status            584334 non-null  object        \n",
            " 11   MV                  584334 non-null  object        \n",
            " 12  Year                 584334 non-null  int64         \n",
            " 13  Month                584334 non-null  int64         \n",
            " 14  Customer Since       584334 non-null  datetime64[ns]\n",
            " 15  M-Y                  584334 non-null  object        \n",
            " 16  FY                   584334 non-null  object        \n",
            " 17  discount_percentage  577489 non-null  float64       \n",
            " 18  day                  584334 non-null  int64         \n",
            "dtypes: datetime64[ns](2), float64(5), int64(3), object(9)\n",
            "memory usage: 89.2+ MB\n"
          ]
        }
      ],
      "source": [
        "df.info()"
      ]
    },
    {
      "cell_type": "code",
      "execution_count": null,
      "metadata": {
        "id": "FtyKM9VWthfM"
      },
      "outputs": [],
      "source": [
        "# df['started_month'] = df['Customer Since'].dt.month\n",
        "# df['started_year'] = df['Customer Since'].dt.year\n",
        "# df = df.drop(columns= ['Customer Since'])"
      ]
    },
    {
      "cell_type": "code",
      "execution_count": null,
      "metadata": {
        "id": "fFq-VZShuP_F"
      },
      "outputs": [],
      "source": [
        "df = df.drop(columns=[\"M-Y\",\"FY\" ])"
      ]
    },
    {
      "cell_type": "code",
      "execution_count": null,
      "metadata": {
        "id": "TIeSLtoKu-Mu",
        "colab": {
          "base_uri": "https://localhost:8080/"
        },
        "outputId": "d41491f4-16e1-4dab-af44-28fe91708708"
      },
      "outputs": [
        {
          "output_type": "stream",
          "name": "stdout",
          "text": [
            "<class 'pandas.core.frame.DataFrame'>\n",
            "Int64Index: 584334 entries, 0 to 584523\n",
            "Data columns (total 17 columns):\n",
            " #   Column               Non-Null Count   Dtype         \n",
            "---  ------               --------------   -----         \n",
            " 0   status               584334 non-null  object        \n",
            " 1   created_at           584334 non-null  datetime64[ns]\n",
            " 2   price                584334 non-null  float64       \n",
            " 3   qty_ordered          584334 non-null  float64       \n",
            " 4   grand_total          584334 non-null  float64       \n",
            " 5   increment_id         584334 non-null  object        \n",
            " 6   category             584334 non-null  object        \n",
            " 7   discount_amount      584334 non-null  float64       \n",
            " 8   payment_method       584334 non-null  object        \n",
            " 9   Working Date         584334 non-null  object        \n",
            " 10  BI Status            584334 non-null  object        \n",
            " 11   MV                  584334 non-null  object        \n",
            " 12  Year                 584334 non-null  int64         \n",
            " 13  Month                584334 non-null  int64         \n",
            " 14  Customer Since       584334 non-null  datetime64[ns]\n",
            " 15  discount_percentage  577489 non-null  float64       \n",
            " 16  day                  584334 non-null  int64         \n",
            "dtypes: datetime64[ns](2), float64(5), int64(3), object(7)\n",
            "memory usage: 80.2+ MB\n"
          ]
        }
      ],
      "source": [
        "df.info()"
      ]
    },
    {
      "cell_type": "code",
      "execution_count": null,
      "metadata": {
        "id": "AyGnrDGvtFmG",
        "colab": {
          "base_uri": "https://localhost:8080/",
          "height": 135
        },
        "outputId": "2ab7bd5c-f5f5-4f0d-bff4-e954802ae4f2"
      },
      "outputs": [
        {
          "output_type": "execute_result",
          "data": {
            "text/plain": [
              "          status created_at    price  qty_ordered  grand_total increment_id  \\\n",
              "443084  complete 2018-02-14  15899.0          1.0       8899.0    100452672   \n",
              "\n",
              "          category  discount_amount payment_method Working Date BI Status  \\\n",
              "443084  Appliances           7000.0            cod    2/14/2018       Net   \n",
              "\n",
              "             MV   Year  Month Customer Since  discount_percentage  day  \n",
              "443084   15,899   2018      2     2018-02-01            78.660524   14  "
            ],
            "text/html": [
              "\n",
              "  <div id=\"df-c1d5ada4-7d77-4c35-a601-e442f52aabf7\" class=\"colab-df-container\">\n",
              "    <div>\n",
              "<style scoped>\n",
              "    .dataframe tbody tr th:only-of-type {\n",
              "        vertical-align: middle;\n",
              "    }\n",
              "\n",
              "    .dataframe tbody tr th {\n",
              "        vertical-align: top;\n",
              "    }\n",
              "\n",
              "    .dataframe thead th {\n",
              "        text-align: right;\n",
              "    }\n",
              "</style>\n",
              "<table border=\"1\" class=\"dataframe\">\n",
              "  <thead>\n",
              "    <tr style=\"text-align: right;\">\n",
              "      <th></th>\n",
              "      <th>status</th>\n",
              "      <th>created_at</th>\n",
              "      <th>price</th>\n",
              "      <th>qty_ordered</th>\n",
              "      <th>grand_total</th>\n",
              "      <th>increment_id</th>\n",
              "      <th>category</th>\n",
              "      <th>discount_amount</th>\n",
              "      <th>payment_method</th>\n",
              "      <th>Working Date</th>\n",
              "      <th>BI Status</th>\n",
              "      <th>MV</th>\n",
              "      <th>Year</th>\n",
              "      <th>Month</th>\n",
              "      <th>Customer Since</th>\n",
              "      <th>discount_percentage</th>\n",
              "      <th>day</th>\n",
              "    </tr>\n",
              "  </thead>\n",
              "  <tbody>\n",
              "    <tr>\n",
              "      <th>443084</th>\n",
              "      <td>complete</td>\n",
              "      <td>2018-02-14</td>\n",
              "      <td>15899.0</td>\n",
              "      <td>1.0</td>\n",
              "      <td>8899.0</td>\n",
              "      <td>100452672</td>\n",
              "      <td>Appliances</td>\n",
              "      <td>7000.0</td>\n",
              "      <td>cod</td>\n",
              "      <td>2/14/2018</td>\n",
              "      <td>Net</td>\n",
              "      <td>15,899</td>\n",
              "      <td>2018</td>\n",
              "      <td>2</td>\n",
              "      <td>2018-02-01</td>\n",
              "      <td>78.660524</td>\n",
              "      <td>14</td>\n",
              "    </tr>\n",
              "  </tbody>\n",
              "</table>\n",
              "</div>\n",
              "    <div class=\"colab-df-buttons\">\n",
              "\n",
              "  <div class=\"colab-df-container\">\n",
              "    <button class=\"colab-df-convert\" onclick=\"convertToInteractive('df-c1d5ada4-7d77-4c35-a601-e442f52aabf7')\"\n",
              "            title=\"Convert this dataframe to an interactive table.\"\n",
              "            style=\"display:none;\">\n",
              "\n",
              "  <svg xmlns=\"http://www.w3.org/2000/svg\" height=\"24px\" viewBox=\"0 -960 960 960\">\n",
              "    <path d=\"M120-120v-720h720v720H120Zm60-500h600v-160H180v160Zm220 220h160v-160H400v160Zm0 220h160v-160H400v160ZM180-400h160v-160H180v160Zm440 0h160v-160H620v160ZM180-180h160v-160H180v160Zm440 0h160v-160H620v160Z\"/>\n",
              "  </svg>\n",
              "    </button>\n",
              "\n",
              "  <style>\n",
              "    .colab-df-container {\n",
              "      display:flex;\n",
              "      gap: 12px;\n",
              "    }\n",
              "\n",
              "    .colab-df-convert {\n",
              "      background-color: #E8F0FE;\n",
              "      border: none;\n",
              "      border-radius: 50%;\n",
              "      cursor: pointer;\n",
              "      display: none;\n",
              "      fill: #1967D2;\n",
              "      height: 32px;\n",
              "      padding: 0 0 0 0;\n",
              "      width: 32px;\n",
              "    }\n",
              "\n",
              "    .colab-df-convert:hover {\n",
              "      background-color: #E2EBFA;\n",
              "      box-shadow: 0px 1px 2px rgba(60, 64, 67, 0.3), 0px 1px 3px 1px rgba(60, 64, 67, 0.15);\n",
              "      fill: #174EA6;\n",
              "    }\n",
              "\n",
              "    .colab-df-buttons div {\n",
              "      margin-bottom: 4px;\n",
              "    }\n",
              "\n",
              "    [theme=dark] .colab-df-convert {\n",
              "      background-color: #3B4455;\n",
              "      fill: #D2E3FC;\n",
              "    }\n",
              "\n",
              "    [theme=dark] .colab-df-convert:hover {\n",
              "      background-color: #434B5C;\n",
              "      box-shadow: 0px 1px 3px 1px rgba(0, 0, 0, 0.15);\n",
              "      filter: drop-shadow(0px 1px 2px rgba(0, 0, 0, 0.3));\n",
              "      fill: #FFFFFF;\n",
              "    }\n",
              "  </style>\n",
              "\n",
              "    <script>\n",
              "      const buttonEl =\n",
              "        document.querySelector('#df-c1d5ada4-7d77-4c35-a601-e442f52aabf7 button.colab-df-convert');\n",
              "      buttonEl.style.display =\n",
              "        google.colab.kernel.accessAllowed ? 'block' : 'none';\n",
              "\n",
              "      async function convertToInteractive(key) {\n",
              "        const element = document.querySelector('#df-c1d5ada4-7d77-4c35-a601-e442f52aabf7');\n",
              "        const dataTable =\n",
              "          await google.colab.kernel.invokeFunction('convertToInteractive',\n",
              "                                                    [key], {});\n",
              "        if (!dataTable) return;\n",
              "\n",
              "        const docLinkHtml = 'Like what you see? Visit the ' +\n",
              "          '<a target=\"_blank\" href=https://colab.research.google.com/notebooks/data_table.ipynb>data table notebook</a>'\n",
              "          + ' to learn more about interactive tables.';\n",
              "        element.innerHTML = '';\n",
              "        dataTable['output_type'] = 'display_data';\n",
              "        await google.colab.output.renderOutput(dataTable, element);\n",
              "        const docLink = document.createElement('div');\n",
              "        docLink.innerHTML = docLinkHtml;\n",
              "        element.appendChild(docLink);\n",
              "      }\n",
              "    </script>\n",
              "  </div>\n",
              "\n",
              "\n",
              "    </div>\n",
              "  </div>\n"
            ]
          },
          "metadata": {},
          "execution_count": 21
        }
      ],
      "source": [
        "df.sample()"
      ]
    },
    {
      "cell_type": "code",
      "execution_count": null,
      "metadata": {
        "id": "r330mILkvUcf",
        "colab": {
          "base_uri": "https://localhost:8080/"
        },
        "outputId": "09ab5cf3-23e9-4c13-db3d-08397ea56570"
      },
      "outputs": [
        {
          "output_type": "execute_result",
          "data": {
            "text/plain": [
              "array(['complete', 'canceled', 'order_refunded', 'received', 'refund',\n",
              "       'closed', 'fraud', 'holded', 'exchange', 'pending_paypal', 'paid',\n",
              "       '\\\\N', 'cod', 'pending', 'processing', 'payment_review'],\n",
              "      dtype=object)"
            ]
          },
          "metadata": {},
          "execution_count": 22
        }
      ],
      "source": [
        "df.status.unique()"
      ]
    },
    {
      "cell_type": "code",
      "execution_count": null,
      "metadata": {
        "id": "kDjyA93Gxhlt",
        "colab": {
          "base_uri": "https://localhost:8080/"
        },
        "outputId": "ea0b51df-764c-440f-c2ca-8c8bed3d4711"
      },
      "outputs": [
        {
          "output_type": "execute_result",
          "data": {
            "text/plain": [
              "array([\"Women's Fashion\", 'Beauty & Grooming', 'Soghaat',\n",
              "       'Mobiles & Tablets', 'Appliances', 'Home & Living',\n",
              "       \"Men's Fashion\", 'Kids & Baby', '\\\\N', 'Others', 'Entertainment',\n",
              "       'Computing', 'Superstore', 'Health & Sports', 'Books',\n",
              "       'School & Education'], dtype=object)"
            ]
          },
          "metadata": {},
          "execution_count": 23
        }
      ],
      "source": [
        "df.category.unique()"
      ]
    },
    {
      "cell_type": "code",
      "execution_count": null,
      "metadata": {
        "id": "eqikLpblyLLz",
        "colab": {
          "base_uri": "https://localhost:8080/"
        },
        "outputId": "b3a4e41c-a93c-4bc5-8732-d06bfa3c97dd"
      },
      "outputs": [
        {
          "output_type": "execute_result",
          "data": {
            "text/plain": [
              "array(['cod', 'ublcreditcard', 'mygateway', 'customercredit',\n",
              "       'cashatdoorstep', 'mcblite', 'internetbanking', 'marketingexpense',\n",
              "       'productcredit', 'financesettlement', 'Payaxis', 'jazzvoucher',\n",
              "       'jazzwallet', 'Easypay', 'Easypay_MA', 'easypay_voucher',\n",
              "       'bankalfalah', 'apg'], dtype=object)"
            ]
          },
          "metadata": {},
          "execution_count": 24
        }
      ],
      "source": [
        "df.payment_method.unique()"
      ]
    },
    {
      "cell_type": "code",
      "execution_count": null,
      "metadata": {
        "id": "h-yNnIL13eb7"
      },
      "outputs": [],
      "source": [
        "df = df.drop(columns=['created_at'])"
      ]
    },
    {
      "cell_type": "code",
      "execution_count": null,
      "metadata": {
        "id": "BH72erTU3pRs",
        "colab": {
          "base_uri": "https://localhost:8080/",
          "height": 135
        },
        "outputId": "a6205e99-1ed1-41ed-fb01-3906c02c17f2"
      },
      "outputs": [
        {
          "output_type": "execute_result",
          "data": {
            "text/plain": [
              "                status  price  qty_ordered  grand_total increment_id  \\\n",
              "308722  order_refunded  575.0          1.0        575.0    100362161   \n",
              "\n",
              "             category  discount_amount payment_method Working Date BI Status  \\\n",
              "308722  Men's Fashion              0.0            cod    10/4/2017     Valid   \n",
              "\n",
              "          MV   Year  Month Customer Since  discount_percentage  day  \n",
              "308722   575   2017     10     2017-09-01                  0.0    4  "
            ],
            "text/html": [
              "\n",
              "  <div id=\"df-b5068e96-aadf-4fdf-89df-5808ff2b9137\" class=\"colab-df-container\">\n",
              "    <div>\n",
              "<style scoped>\n",
              "    .dataframe tbody tr th:only-of-type {\n",
              "        vertical-align: middle;\n",
              "    }\n",
              "\n",
              "    .dataframe tbody tr th {\n",
              "        vertical-align: top;\n",
              "    }\n",
              "\n",
              "    .dataframe thead th {\n",
              "        text-align: right;\n",
              "    }\n",
              "</style>\n",
              "<table border=\"1\" class=\"dataframe\">\n",
              "  <thead>\n",
              "    <tr style=\"text-align: right;\">\n",
              "      <th></th>\n",
              "      <th>status</th>\n",
              "      <th>price</th>\n",
              "      <th>qty_ordered</th>\n",
              "      <th>grand_total</th>\n",
              "      <th>increment_id</th>\n",
              "      <th>category</th>\n",
              "      <th>discount_amount</th>\n",
              "      <th>payment_method</th>\n",
              "      <th>Working Date</th>\n",
              "      <th>BI Status</th>\n",
              "      <th>MV</th>\n",
              "      <th>Year</th>\n",
              "      <th>Month</th>\n",
              "      <th>Customer Since</th>\n",
              "      <th>discount_percentage</th>\n",
              "      <th>day</th>\n",
              "    </tr>\n",
              "  </thead>\n",
              "  <tbody>\n",
              "    <tr>\n",
              "      <th>308722</th>\n",
              "      <td>order_refunded</td>\n",
              "      <td>575.0</td>\n",
              "      <td>1.0</td>\n",
              "      <td>575.0</td>\n",
              "      <td>100362161</td>\n",
              "      <td>Men's Fashion</td>\n",
              "      <td>0.0</td>\n",
              "      <td>cod</td>\n",
              "      <td>10/4/2017</td>\n",
              "      <td>Valid</td>\n",
              "      <td>575</td>\n",
              "      <td>2017</td>\n",
              "      <td>10</td>\n",
              "      <td>2017-09-01</td>\n",
              "      <td>0.0</td>\n",
              "      <td>4</td>\n",
              "    </tr>\n",
              "  </tbody>\n",
              "</table>\n",
              "</div>\n",
              "    <div class=\"colab-df-buttons\">\n",
              "\n",
              "  <div class=\"colab-df-container\">\n",
              "    <button class=\"colab-df-convert\" onclick=\"convertToInteractive('df-b5068e96-aadf-4fdf-89df-5808ff2b9137')\"\n",
              "            title=\"Convert this dataframe to an interactive table.\"\n",
              "            style=\"display:none;\">\n",
              "\n",
              "  <svg xmlns=\"http://www.w3.org/2000/svg\" height=\"24px\" viewBox=\"0 -960 960 960\">\n",
              "    <path d=\"M120-120v-720h720v720H120Zm60-500h600v-160H180v160Zm220 220h160v-160H400v160Zm0 220h160v-160H400v160ZM180-400h160v-160H180v160Zm440 0h160v-160H620v160ZM180-180h160v-160H180v160Zm440 0h160v-160H620v160Z\"/>\n",
              "  </svg>\n",
              "    </button>\n",
              "\n",
              "  <style>\n",
              "    .colab-df-container {\n",
              "      display:flex;\n",
              "      gap: 12px;\n",
              "    }\n",
              "\n",
              "    .colab-df-convert {\n",
              "      background-color: #E8F0FE;\n",
              "      border: none;\n",
              "      border-radius: 50%;\n",
              "      cursor: pointer;\n",
              "      display: none;\n",
              "      fill: #1967D2;\n",
              "      height: 32px;\n",
              "      padding: 0 0 0 0;\n",
              "      width: 32px;\n",
              "    }\n",
              "\n",
              "    .colab-df-convert:hover {\n",
              "      background-color: #E2EBFA;\n",
              "      box-shadow: 0px 1px 2px rgba(60, 64, 67, 0.3), 0px 1px 3px 1px rgba(60, 64, 67, 0.15);\n",
              "      fill: #174EA6;\n",
              "    }\n",
              "\n",
              "    .colab-df-buttons div {\n",
              "      margin-bottom: 4px;\n",
              "    }\n",
              "\n",
              "    [theme=dark] .colab-df-convert {\n",
              "      background-color: #3B4455;\n",
              "      fill: #D2E3FC;\n",
              "    }\n",
              "\n",
              "    [theme=dark] .colab-df-convert:hover {\n",
              "      background-color: #434B5C;\n",
              "      box-shadow: 0px 1px 3px 1px rgba(0, 0, 0, 0.15);\n",
              "      filter: drop-shadow(0px 1px 2px rgba(0, 0, 0, 0.3));\n",
              "      fill: #FFFFFF;\n",
              "    }\n",
              "  </style>\n",
              "\n",
              "    <script>\n",
              "      const buttonEl =\n",
              "        document.querySelector('#df-b5068e96-aadf-4fdf-89df-5808ff2b9137 button.colab-df-convert');\n",
              "      buttonEl.style.display =\n",
              "        google.colab.kernel.accessAllowed ? 'block' : 'none';\n",
              "\n",
              "      async function convertToInteractive(key) {\n",
              "        const element = document.querySelector('#df-b5068e96-aadf-4fdf-89df-5808ff2b9137');\n",
              "        const dataTable =\n",
              "          await google.colab.kernel.invokeFunction('convertToInteractive',\n",
              "                                                    [key], {});\n",
              "        if (!dataTable) return;\n",
              "\n",
              "        const docLinkHtml = 'Like what you see? Visit the ' +\n",
              "          '<a target=\"_blank\" href=https://colab.research.google.com/notebooks/data_table.ipynb>data table notebook</a>'\n",
              "          + ' to learn more about interactive tables.';\n",
              "        element.innerHTML = '';\n",
              "        dataTable['output_type'] = 'display_data';\n",
              "        await google.colab.output.renderOutput(dataTable, element);\n",
              "        const docLink = document.createElement('div');\n",
              "        docLink.innerHTML = docLinkHtml;\n",
              "        element.appendChild(docLink);\n",
              "      }\n",
              "    </script>\n",
              "  </div>\n",
              "\n",
              "\n",
              "    </div>\n",
              "  </div>\n"
            ]
          },
          "metadata": {},
          "execution_count": 26
        }
      ],
      "source": [
        "df.sample()"
      ]
    },
    {
      "cell_type": "code",
      "execution_count": null,
      "metadata": {
        "id": "suS1zA1W4W_p"
      },
      "outputs": [],
      "source": [
        "new_data = df.groupby(['grand_total', 'category']).size().reset_index(name='count')"
      ]
    },
    {
      "cell_type": "code",
      "execution_count": null,
      "metadata": {
        "id": "HFUP_JcD946W",
        "colab": {
          "base_uri": "https://localhost:8080/"
        },
        "outputId": "07e794cd-a76f-48cf-9731-3dc831b5eb35"
      },
      "outputs": [
        {
          "output_type": "execute_result",
          "data": {
            "text/plain": [
              "array([\"Women's Fashion\", 'Beauty & Grooming', 'Soghaat',\n",
              "       'Mobiles & Tablets', 'Appliances', 'Home & Living',\n",
              "       \"Men's Fashion\", 'Kids & Baby', '\\\\N', 'Others', 'Entertainment',\n",
              "       'Computing', 'Superstore', 'Health & Sports', 'Books',\n",
              "       'School & Education'], dtype=object)"
            ]
          },
          "metadata": {},
          "execution_count": 28
        }
      ],
      "source": [
        "df.category.unique()"
      ]
    },
    {
      "cell_type": "code",
      "execution_count": null,
      "metadata": {
        "id": "PLkDRV-47i1u",
        "colab": {
          "base_uri": "https://localhost:8080/"
        },
        "outputId": "59c599eb-b127-4bed-ca79-aee94ec2f25c"
      },
      "outputs": [
        {
          "output_type": "stream",
          "name": "stdout",
          "text": [
            "<class 'pandas.core.frame.DataFrame'>\n",
            "Int64Index: 584334 entries, 0 to 584523\n",
            "Data columns (total 16 columns):\n",
            " #   Column               Non-Null Count   Dtype         \n",
            "---  ------               --------------   -----         \n",
            " 0   status               584334 non-null  object        \n",
            " 1   price                584334 non-null  float64       \n",
            " 2   qty_ordered          584334 non-null  float64       \n",
            " 3   grand_total          584334 non-null  float64       \n",
            " 4   increment_id         584334 non-null  object        \n",
            " 5   category             584334 non-null  object        \n",
            " 6   discount_amount      584334 non-null  float64       \n",
            " 7   payment_method       584334 non-null  object        \n",
            " 8   Working Date         584334 non-null  object        \n",
            " 9   BI Status            584334 non-null  object        \n",
            " 10   MV                  584334 non-null  object        \n",
            " 11  Year                 584334 non-null  int64         \n",
            " 12  Month                584334 non-null  int64         \n",
            " 13  Customer Since       584334 non-null  datetime64[ns]\n",
            " 14  discount_percentage  577489 non-null  float64       \n",
            " 15  day                  584334 non-null  int64         \n",
            "dtypes: datetime64[ns](1), float64(5), int64(3), object(7)\n",
            "memory usage: 75.8+ MB\n"
          ]
        }
      ],
      "source": [
        "df.info()"
      ]
    },
    {
      "cell_type": "markdown",
      "metadata": {
        "id": "zOyRNLuwV40y"
      },
      "source": [
        "# Groupby"
      ]
    },
    {
      "cell_type": "markdown",
      "metadata": {
        "id": "6Ako1FzAV7AI"
      },
      "source": [
        "- all\n",
        "- filters\n",
        "- mean()\n",
        "- max()\n",
        "- min()\n",
        "- count()\n",
        "- sum()\n",
        "- agg()"
      ]
    },
    {
      "cell_type": "code",
      "execution_count": null,
      "metadata": {
        "id": "wblFtUyXPSos",
        "colab": {
          "base_uri": "https://localhost:8080/"
        },
        "outputId": "db6be26a-3c83-4373-e4a5-5031261e74ec"
      },
      "outputs": [
        {
          "output_type": "stream",
          "name": "stderr",
          "text": [
            "<ipython-input-30-582b654c0222>:1: FutureWarning: The default value of numeric_only in DataFrameGroupBy.mean is deprecated. In a future version, numeric_only will default to False. Either specify numeric_only or select only columns which should be valid for the function.\n",
            "  category_df_all = df.groupby('category').mean()\n"
          ]
        }
      ],
      "source": [
        "category_df_all = df.groupby('category').mean()"
      ]
    },
    {
      "cell_type": "code",
      "execution_count": null,
      "metadata": {
        "id": "ujIx6b-TPfW3",
        "colab": {
          "base_uri": "https://localhost:8080/",
          "height": 724
        },
        "outputId": "bfdd1d6e-5dbb-459b-8fae-3aaebc58f6a1"
      },
      "outputs": [
        {
          "output_type": "execute_result",
          "data": {
            "text/plain": [
              "                           price  qty_ordered   grand_total  discount_amount  \\\n",
              "category                                                                       \n",
              "Appliances          11058.435106     1.110469  12532.190215      1027.461677   \n",
              "Beauty & Grooming     879.352246     1.296291   2342.145465       130.133237   \n",
              "Books                 483.590374     1.412299   1431.120158        19.784809   \n",
              "Computing           10884.834663     1.082721  12712.338652       856.055087   \n",
              "Entertainment       19256.489225     1.041519  20476.426174      1887.934514   \n",
              "Health & Sports      1019.756279     1.223860   2387.998290        85.467151   \n",
              "Home & Living        1130.842838     1.134357   3328.443851       221.242232   \n",
              "Kids & Baby           672.947501     1.125599   2863.963592       170.587057   \n",
              "Men's Fashion         907.655039     1.099796   2105.192909        77.524551   \n",
              "Mobiles & Tablets   17544.803049     1.146791  21094.095827      1089.127278   \n",
              "Others               2224.393728     2.906430   6587.285213        39.785991   \n",
              "School & Education    482.146144     1.189189   1793.296185       139.938631   \n",
              "Soghaat               294.215404     1.394196   1362.595879        43.696412   \n",
              "Superstore            610.436230     1.892642   2570.787157       219.400890   \n",
              "Women's Fashion      1758.111619     1.075268   4731.695286       192.075730   \n",
              "\\N                   4147.859827     1.228917   4564.253087       230.547710   \n",
              "\n",
              "                           Year     Month  discount_percentage        day  \n",
              "category                                                                   \n",
              "Appliances          2017.112110  7.729247                  NaN  18.229695  \n",
              "Beauty & Grooming   2016.885523  7.644446                  NaN  16.897838  \n",
              "Books               2017.012834  6.794652                  NaN  16.572727  \n",
              "Computing           2017.003954  7.661708                  NaN  18.076759  \n",
              "Entertainment       2017.231529  7.081178                  NaN  17.607863  \n",
              "Health & Sports     2017.128442  6.628785                  NaN  17.178208  \n",
              "Home & Living       2017.017431  7.594024                  NaN  17.520148  \n",
              "Kids & Baby         2016.996361  6.961611                  NaN  16.497180  \n",
              "Men's Fashion       2016.912208  7.757249                  NaN  17.132805  \n",
              "Mobiles & Tablets   2017.098618  7.151587                  NaN  17.334218  \n",
              "Others              2017.759758  3.970111                  NaN  21.992468  \n",
              "School & Education  2016.878953  6.804773                  NaN  15.380966  \n",
              "Soghaat             2016.640322  7.625062                  NaN  16.948281  \n",
              "Superstore          2017.076861  6.715943                  NaN  17.864667  \n",
              "Women's Fashion     2017.088111  6.884327                  NaN  16.938329  \n",
              "\\N                  2016.257580  8.601274                  NaN  17.268408  "
            ],
            "text/html": [
              "\n",
              "  <div id=\"df-ed523637-3f78-4f20-b85b-88a5818b4c76\" class=\"colab-df-container\">\n",
              "    <div>\n",
              "<style scoped>\n",
              "    .dataframe tbody tr th:only-of-type {\n",
              "        vertical-align: middle;\n",
              "    }\n",
              "\n",
              "    .dataframe tbody tr th {\n",
              "        vertical-align: top;\n",
              "    }\n",
              "\n",
              "    .dataframe thead th {\n",
              "        text-align: right;\n",
              "    }\n",
              "</style>\n",
              "<table border=\"1\" class=\"dataframe\">\n",
              "  <thead>\n",
              "    <tr style=\"text-align: right;\">\n",
              "      <th></th>\n",
              "      <th>price</th>\n",
              "      <th>qty_ordered</th>\n",
              "      <th>grand_total</th>\n",
              "      <th>discount_amount</th>\n",
              "      <th>Year</th>\n",
              "      <th>Month</th>\n",
              "      <th>discount_percentage</th>\n",
              "      <th>day</th>\n",
              "    </tr>\n",
              "    <tr>\n",
              "      <th>category</th>\n",
              "      <th></th>\n",
              "      <th></th>\n",
              "      <th></th>\n",
              "      <th></th>\n",
              "      <th></th>\n",
              "      <th></th>\n",
              "      <th></th>\n",
              "      <th></th>\n",
              "    </tr>\n",
              "  </thead>\n",
              "  <tbody>\n",
              "    <tr>\n",
              "      <th>Appliances</th>\n",
              "      <td>11058.435106</td>\n",
              "      <td>1.110469</td>\n",
              "      <td>12532.190215</td>\n",
              "      <td>1027.461677</td>\n",
              "      <td>2017.112110</td>\n",
              "      <td>7.729247</td>\n",
              "      <td>NaN</td>\n",
              "      <td>18.229695</td>\n",
              "    </tr>\n",
              "    <tr>\n",
              "      <th>Beauty &amp; Grooming</th>\n",
              "      <td>879.352246</td>\n",
              "      <td>1.296291</td>\n",
              "      <td>2342.145465</td>\n",
              "      <td>130.133237</td>\n",
              "      <td>2016.885523</td>\n",
              "      <td>7.644446</td>\n",
              "      <td>NaN</td>\n",
              "      <td>16.897838</td>\n",
              "    </tr>\n",
              "    <tr>\n",
              "      <th>Books</th>\n",
              "      <td>483.590374</td>\n",
              "      <td>1.412299</td>\n",
              "      <td>1431.120158</td>\n",
              "      <td>19.784809</td>\n",
              "      <td>2017.012834</td>\n",
              "      <td>6.794652</td>\n",
              "      <td>NaN</td>\n",
              "      <td>16.572727</td>\n",
              "    </tr>\n",
              "    <tr>\n",
              "      <th>Computing</th>\n",
              "      <td>10884.834663</td>\n",
              "      <td>1.082721</td>\n",
              "      <td>12712.338652</td>\n",
              "      <td>856.055087</td>\n",
              "      <td>2017.003954</td>\n",
              "      <td>7.661708</td>\n",
              "      <td>NaN</td>\n",
              "      <td>18.076759</td>\n",
              "    </tr>\n",
              "    <tr>\n",
              "      <th>Entertainment</th>\n",
              "      <td>19256.489225</td>\n",
              "      <td>1.041519</td>\n",
              "      <td>20476.426174</td>\n",
              "      <td>1887.934514</td>\n",
              "      <td>2017.231529</td>\n",
              "      <td>7.081178</td>\n",
              "      <td>NaN</td>\n",
              "      <td>17.607863</td>\n",
              "    </tr>\n",
              "    <tr>\n",
              "      <th>Health &amp; Sports</th>\n",
              "      <td>1019.756279</td>\n",
              "      <td>1.223860</td>\n",
              "      <td>2387.998290</td>\n",
              "      <td>85.467151</td>\n",
              "      <td>2017.128442</td>\n",
              "      <td>6.628785</td>\n",
              "      <td>NaN</td>\n",
              "      <td>17.178208</td>\n",
              "    </tr>\n",
              "    <tr>\n",
              "      <th>Home &amp; Living</th>\n",
              "      <td>1130.842838</td>\n",
              "      <td>1.134357</td>\n",
              "      <td>3328.443851</td>\n",
              "      <td>221.242232</td>\n",
              "      <td>2017.017431</td>\n",
              "      <td>7.594024</td>\n",
              "      <td>NaN</td>\n",
              "      <td>17.520148</td>\n",
              "    </tr>\n",
              "    <tr>\n",
              "      <th>Kids &amp; Baby</th>\n",
              "      <td>672.947501</td>\n",
              "      <td>1.125599</td>\n",
              "      <td>2863.963592</td>\n",
              "      <td>170.587057</td>\n",
              "      <td>2016.996361</td>\n",
              "      <td>6.961611</td>\n",
              "      <td>NaN</td>\n",
              "      <td>16.497180</td>\n",
              "    </tr>\n",
              "    <tr>\n",
              "      <th>Men's Fashion</th>\n",
              "      <td>907.655039</td>\n",
              "      <td>1.099796</td>\n",
              "      <td>2105.192909</td>\n",
              "      <td>77.524551</td>\n",
              "      <td>2016.912208</td>\n",
              "      <td>7.757249</td>\n",
              "      <td>NaN</td>\n",
              "      <td>17.132805</td>\n",
              "    </tr>\n",
              "    <tr>\n",
              "      <th>Mobiles &amp; Tablets</th>\n",
              "      <td>17544.803049</td>\n",
              "      <td>1.146791</td>\n",
              "      <td>21094.095827</td>\n",
              "      <td>1089.127278</td>\n",
              "      <td>2017.098618</td>\n",
              "      <td>7.151587</td>\n",
              "      <td>NaN</td>\n",
              "      <td>17.334218</td>\n",
              "    </tr>\n",
              "    <tr>\n",
              "      <th>Others</th>\n",
              "      <td>2224.393728</td>\n",
              "      <td>2.906430</td>\n",
              "      <td>6587.285213</td>\n",
              "      <td>39.785991</td>\n",
              "      <td>2017.759758</td>\n",
              "      <td>3.970111</td>\n",
              "      <td>NaN</td>\n",
              "      <td>21.992468</td>\n",
              "    </tr>\n",
              "    <tr>\n",
              "      <th>School &amp; Education</th>\n",
              "      <td>482.146144</td>\n",
              "      <td>1.189189</td>\n",
              "      <td>1793.296185</td>\n",
              "      <td>139.938631</td>\n",
              "      <td>2016.878953</td>\n",
              "      <td>6.804773</td>\n",
              "      <td>NaN</td>\n",
              "      <td>15.380966</td>\n",
              "    </tr>\n",
              "    <tr>\n",
              "      <th>Soghaat</th>\n",
              "      <td>294.215404</td>\n",
              "      <td>1.394196</td>\n",
              "      <td>1362.595879</td>\n",
              "      <td>43.696412</td>\n",
              "      <td>2016.640322</td>\n",
              "      <td>7.625062</td>\n",
              "      <td>NaN</td>\n",
              "      <td>16.948281</td>\n",
              "    </tr>\n",
              "    <tr>\n",
              "      <th>Superstore</th>\n",
              "      <td>610.436230</td>\n",
              "      <td>1.892642</td>\n",
              "      <td>2570.787157</td>\n",
              "      <td>219.400890</td>\n",
              "      <td>2017.076861</td>\n",
              "      <td>6.715943</td>\n",
              "      <td>NaN</td>\n",
              "      <td>17.864667</td>\n",
              "    </tr>\n",
              "    <tr>\n",
              "      <th>Women's Fashion</th>\n",
              "      <td>1758.111619</td>\n",
              "      <td>1.075268</td>\n",
              "      <td>4731.695286</td>\n",
              "      <td>192.075730</td>\n",
              "      <td>2017.088111</td>\n",
              "      <td>6.884327</td>\n",
              "      <td>NaN</td>\n",
              "      <td>16.938329</td>\n",
              "    </tr>\n",
              "    <tr>\n",
              "      <th>\\N</th>\n",
              "      <td>4147.859827</td>\n",
              "      <td>1.228917</td>\n",
              "      <td>4564.253087</td>\n",
              "      <td>230.547710</td>\n",
              "      <td>2016.257580</td>\n",
              "      <td>8.601274</td>\n",
              "      <td>NaN</td>\n",
              "      <td>17.268408</td>\n",
              "    </tr>\n",
              "  </tbody>\n",
              "</table>\n",
              "</div>\n",
              "    <div class=\"colab-df-buttons\">\n",
              "\n",
              "  <div class=\"colab-df-container\">\n",
              "    <button class=\"colab-df-convert\" onclick=\"convertToInteractive('df-ed523637-3f78-4f20-b85b-88a5818b4c76')\"\n",
              "            title=\"Convert this dataframe to an interactive table.\"\n",
              "            style=\"display:none;\">\n",
              "\n",
              "  <svg xmlns=\"http://www.w3.org/2000/svg\" height=\"24px\" viewBox=\"0 -960 960 960\">\n",
              "    <path d=\"M120-120v-720h720v720H120Zm60-500h600v-160H180v160Zm220 220h160v-160H400v160Zm0 220h160v-160H400v160ZM180-400h160v-160H180v160Zm440 0h160v-160H620v160ZM180-180h160v-160H180v160Zm440 0h160v-160H620v160Z\"/>\n",
              "  </svg>\n",
              "    </button>\n",
              "\n",
              "  <style>\n",
              "    .colab-df-container {\n",
              "      display:flex;\n",
              "      gap: 12px;\n",
              "    }\n",
              "\n",
              "    .colab-df-convert {\n",
              "      background-color: #E8F0FE;\n",
              "      border: none;\n",
              "      border-radius: 50%;\n",
              "      cursor: pointer;\n",
              "      display: none;\n",
              "      fill: #1967D2;\n",
              "      height: 32px;\n",
              "      padding: 0 0 0 0;\n",
              "      width: 32px;\n",
              "    }\n",
              "\n",
              "    .colab-df-convert:hover {\n",
              "      background-color: #E2EBFA;\n",
              "      box-shadow: 0px 1px 2px rgba(60, 64, 67, 0.3), 0px 1px 3px 1px rgba(60, 64, 67, 0.15);\n",
              "      fill: #174EA6;\n",
              "    }\n",
              "\n",
              "    .colab-df-buttons div {\n",
              "      margin-bottom: 4px;\n",
              "    }\n",
              "\n",
              "    [theme=dark] .colab-df-convert {\n",
              "      background-color: #3B4455;\n",
              "      fill: #D2E3FC;\n",
              "    }\n",
              "\n",
              "    [theme=dark] .colab-df-convert:hover {\n",
              "      background-color: #434B5C;\n",
              "      box-shadow: 0px 1px 3px 1px rgba(0, 0, 0, 0.15);\n",
              "      filter: drop-shadow(0px 1px 2px rgba(0, 0, 0, 0.3));\n",
              "      fill: #FFFFFF;\n",
              "    }\n",
              "  </style>\n",
              "\n",
              "    <script>\n",
              "      const buttonEl =\n",
              "        document.querySelector('#df-ed523637-3f78-4f20-b85b-88a5818b4c76 button.colab-df-convert');\n",
              "      buttonEl.style.display =\n",
              "        google.colab.kernel.accessAllowed ? 'block' : 'none';\n",
              "\n",
              "      async function convertToInteractive(key) {\n",
              "        const element = document.querySelector('#df-ed523637-3f78-4f20-b85b-88a5818b4c76');\n",
              "        const dataTable =\n",
              "          await google.colab.kernel.invokeFunction('convertToInteractive',\n",
              "                                                    [key], {});\n",
              "        if (!dataTable) return;\n",
              "\n",
              "        const docLinkHtml = 'Like what you see? Visit the ' +\n",
              "          '<a target=\"_blank\" href=https://colab.research.google.com/notebooks/data_table.ipynb>data table notebook</a>'\n",
              "          + ' to learn more about interactive tables.';\n",
              "        element.innerHTML = '';\n",
              "        dataTable['output_type'] = 'display_data';\n",
              "        await google.colab.output.renderOutput(dataTable, element);\n",
              "        const docLink = document.createElement('div');\n",
              "        docLink.innerHTML = docLinkHtml;\n",
              "        element.appendChild(docLink);\n",
              "      }\n",
              "    </script>\n",
              "  </div>\n",
              "\n",
              "\n",
              "<div id=\"df-96c3dbc5-6f8f-4ccc-94f2-24634d1acf7c\">\n",
              "  <button class=\"colab-df-quickchart\" onclick=\"quickchart('df-96c3dbc5-6f8f-4ccc-94f2-24634d1acf7c')\"\n",
              "            title=\"Suggest charts\"\n",
              "            style=\"display:none;\">\n",
              "\n",
              "<svg xmlns=\"http://www.w3.org/2000/svg\" height=\"24px\"viewBox=\"0 0 24 24\"\n",
              "     width=\"24px\">\n",
              "    <g>\n",
              "        <path d=\"M19 3H5c-1.1 0-2 .9-2 2v14c0 1.1.9 2 2 2h14c1.1 0 2-.9 2-2V5c0-1.1-.9-2-2-2zM9 17H7v-7h2v7zm4 0h-2V7h2v10zm4 0h-2v-4h2v4z\"/>\n",
              "    </g>\n",
              "</svg>\n",
              "  </button>\n",
              "\n",
              "<style>\n",
              "  .colab-df-quickchart {\n",
              "      --bg-color: #E8F0FE;\n",
              "      --fill-color: #1967D2;\n",
              "      --hover-bg-color: #E2EBFA;\n",
              "      --hover-fill-color: #174EA6;\n",
              "      --disabled-fill-color: #AAA;\n",
              "      --disabled-bg-color: #DDD;\n",
              "  }\n",
              "\n",
              "  [theme=dark] .colab-df-quickchart {\n",
              "      --bg-color: #3B4455;\n",
              "      --fill-color: #D2E3FC;\n",
              "      --hover-bg-color: #434B5C;\n",
              "      --hover-fill-color: #FFFFFF;\n",
              "      --disabled-bg-color: #3B4455;\n",
              "      --disabled-fill-color: #666;\n",
              "  }\n",
              "\n",
              "  .colab-df-quickchart {\n",
              "    background-color: var(--bg-color);\n",
              "    border: none;\n",
              "    border-radius: 50%;\n",
              "    cursor: pointer;\n",
              "    display: none;\n",
              "    fill: var(--fill-color);\n",
              "    height: 32px;\n",
              "    padding: 0;\n",
              "    width: 32px;\n",
              "  }\n",
              "\n",
              "  .colab-df-quickchart:hover {\n",
              "    background-color: var(--hover-bg-color);\n",
              "    box-shadow: 0 1px 2px rgba(60, 64, 67, 0.3), 0 1px 3px 1px rgba(60, 64, 67, 0.15);\n",
              "    fill: var(--button-hover-fill-color);\n",
              "  }\n",
              "\n",
              "  .colab-df-quickchart-complete:disabled,\n",
              "  .colab-df-quickchart-complete:disabled:hover {\n",
              "    background-color: var(--disabled-bg-color);\n",
              "    fill: var(--disabled-fill-color);\n",
              "    box-shadow: none;\n",
              "  }\n",
              "\n",
              "  .colab-df-spinner {\n",
              "    border: 2px solid var(--fill-color);\n",
              "    border-color: transparent;\n",
              "    border-bottom-color: var(--fill-color);\n",
              "    animation:\n",
              "      spin 1s steps(1) infinite;\n",
              "  }\n",
              "\n",
              "  @keyframes spin {\n",
              "    0% {\n",
              "      border-color: transparent;\n",
              "      border-bottom-color: var(--fill-color);\n",
              "      border-left-color: var(--fill-color);\n",
              "    }\n",
              "    20% {\n",
              "      border-color: transparent;\n",
              "      border-left-color: var(--fill-color);\n",
              "      border-top-color: var(--fill-color);\n",
              "    }\n",
              "    30% {\n",
              "      border-color: transparent;\n",
              "      border-left-color: var(--fill-color);\n",
              "      border-top-color: var(--fill-color);\n",
              "      border-right-color: var(--fill-color);\n",
              "    }\n",
              "    40% {\n",
              "      border-color: transparent;\n",
              "      border-right-color: var(--fill-color);\n",
              "      border-top-color: var(--fill-color);\n",
              "    }\n",
              "    60% {\n",
              "      border-color: transparent;\n",
              "      border-right-color: var(--fill-color);\n",
              "    }\n",
              "    80% {\n",
              "      border-color: transparent;\n",
              "      border-right-color: var(--fill-color);\n",
              "      border-bottom-color: var(--fill-color);\n",
              "    }\n",
              "    90% {\n",
              "      border-color: transparent;\n",
              "      border-bottom-color: var(--fill-color);\n",
              "    }\n",
              "  }\n",
              "</style>\n",
              "\n",
              "  <script>\n",
              "    async function quickchart(key) {\n",
              "      const quickchartButtonEl =\n",
              "        document.querySelector('#' + key + ' button');\n",
              "      quickchartButtonEl.disabled = true;  // To prevent multiple clicks.\n",
              "      quickchartButtonEl.classList.add('colab-df-spinner');\n",
              "      try {\n",
              "        const charts = await google.colab.kernel.invokeFunction(\n",
              "            'suggestCharts', [key], {});\n",
              "      } catch (error) {\n",
              "        console.error('Error during call to suggestCharts:', error);\n",
              "      }\n",
              "      quickchartButtonEl.classList.remove('colab-df-spinner');\n",
              "      quickchartButtonEl.classList.add('colab-df-quickchart-complete');\n",
              "    }\n",
              "    (() => {\n",
              "      let quickchartButtonEl =\n",
              "        document.querySelector('#df-96c3dbc5-6f8f-4ccc-94f2-24634d1acf7c button');\n",
              "      quickchartButtonEl.style.display =\n",
              "        google.colab.kernel.accessAllowed ? 'block' : 'none';\n",
              "    })();\n",
              "  </script>\n",
              "</div>\n",
              "\n",
              "  <div id=\"id_c878198b-1bd7-460b-9af0-cfc3fb924f98\">\n",
              "    <style>\n",
              "      .colab-df-generate {\n",
              "        background-color: #E8F0FE;\n",
              "        border: none;\n",
              "        border-radius: 50%;\n",
              "        cursor: pointer;\n",
              "        display: none;\n",
              "        fill: #1967D2;\n",
              "        height: 32px;\n",
              "        padding: 0 0 0 0;\n",
              "        width: 32px;\n",
              "      }\n",
              "\n",
              "      .colab-df-generate:hover {\n",
              "        background-color: #E2EBFA;\n",
              "        box-shadow: 0px 1px 2px rgba(60, 64, 67, 0.3), 0px 1px 3px 1px rgba(60, 64, 67, 0.15);\n",
              "        fill: #174EA6;\n",
              "      }\n",
              "\n",
              "      [theme=dark] .colab-df-generate {\n",
              "        background-color: #3B4455;\n",
              "        fill: #D2E3FC;\n",
              "      }\n",
              "\n",
              "      [theme=dark] .colab-df-generate:hover {\n",
              "        background-color: #434B5C;\n",
              "        box-shadow: 0px 1px 3px 1px rgba(0, 0, 0, 0.15);\n",
              "        filter: drop-shadow(0px 1px 2px rgba(0, 0, 0, 0.3));\n",
              "        fill: #FFFFFF;\n",
              "      }\n",
              "    </style>\n",
              "    <button class=\"colab-df-generate\" onclick=\"generateWithVariable('category_df_all')\"\n",
              "            title=\"Generate code using this dataframe.\"\n",
              "            style=\"display:none;\">\n",
              "\n",
              "  <svg xmlns=\"http://www.w3.org/2000/svg\" height=\"24px\"viewBox=\"0 0 24 24\"\n",
              "       width=\"24px\">\n",
              "    <path d=\"M7,19H8.4L18.45,9,17,7.55,7,17.6ZM5,21V16.75L18.45,3.32a2,2,0,0,1,2.83,0l1.4,1.43a1.91,1.91,0,0,1,.58,1.4,1.91,1.91,0,0,1-.58,1.4L9.25,21ZM18.45,9,17,7.55Zm-12,3A5.31,5.31,0,0,0,4.9,8.1,5.31,5.31,0,0,0,1,6.5,5.31,5.31,0,0,0,4.9,4.9,5.31,5.31,0,0,0,6.5,1,5.31,5.31,0,0,0,8.1,4.9,5.31,5.31,0,0,0,12,6.5,5.46,5.46,0,0,0,6.5,12Z\"/>\n",
              "  </svg>\n",
              "    </button>\n",
              "    <script>\n",
              "      (() => {\n",
              "      const buttonEl =\n",
              "        document.querySelector('#id_c878198b-1bd7-460b-9af0-cfc3fb924f98 button.colab-df-generate');\n",
              "      buttonEl.style.display =\n",
              "        google.colab.kernel.accessAllowed ? 'block' : 'none';\n",
              "\n",
              "      buttonEl.onclick = () => {\n",
              "        google.colab.notebook.generateWithVariable('category_df_all');\n",
              "      }\n",
              "      })();\n",
              "    </script>\n",
              "  </div>\n",
              "\n",
              "    </div>\n",
              "  </div>\n"
            ]
          },
          "metadata": {},
          "execution_count": 31
        }
      ],
      "source": [
        "category_df_all"
      ]
    },
    {
      "cell_type": "code",
      "execution_count": null,
      "metadata": {
        "id": "T8by6A_j8RhT",
        "colab": {
          "base_uri": "https://localhost:8080/"
        },
        "outputId": "b3c0b844-ba22-4825-a948-d1aba6d3f619"
      },
      "outputs": [
        {
          "output_type": "stream",
          "name": "stderr",
          "text": [
            "<ipython-input-32-f726966cf0cc>:1: FutureWarning: Indexing with multiple keys (implicitly converted to a tuple of keys) will be deprecated, use a list instead.\n",
            "  category_df_price = df.groupby('category')['price', 'qty_ordered'].agg(['count', 'mean'])\n"
          ]
        }
      ],
      "source": [
        "category_df_price = df.groupby('category')['price', 'qty_ordered'].agg(['count', 'mean'])"
      ]
    },
    {
      "cell_type": "code",
      "execution_count": null,
      "metadata": {
        "id": "tQC2yprEWVAq",
        "colab": {
          "base_uri": "https://localhost:8080/",
          "height": 614
        },
        "outputId": "33fc7a72-c05a-4684-d2d9-59fa57993e19"
      },
      "outputs": [
        {
          "output_type": "execute_result",
          "data": {
            "text/plain": [
              "                     price               qty_ordered          \n",
              "                     count          mean       count      mean\n",
              "category                                                      \n",
              "Appliances           52413  11058.435106       52413  1.110469\n",
              "Beauty & Grooming    41493    879.352246       41493  1.296291\n",
              "Books                 1870    483.590374        1870  1.412299\n",
              "Computing            15933  10884.834663       15933  1.082721\n",
              "Entertainment        26325  19256.489225       26325  1.041519\n",
              "Health & Sports      17502   1019.756279       17502  1.223860\n",
              "Home & Living        26504   1130.842838       26504  1.134357\n",
              "Kids & Baby          16489    672.947501       16489  1.125599\n",
              "Men's Fashion        92218    907.655039       92218  1.099796\n",
              "Mobiles & Tablets   115709  17544.803049      115709  1.146791\n",
              "Others               29208   2224.393728       29208  2.906430\n",
              "School & Education    3478    482.146144        3478  1.189189\n",
              "Soghaat              34011    294.215404       34011  1.394196\n",
              "Superstore           43611    610.436230       43611  1.892642\n",
              "Women's Fashion      59720   1758.111619       59720  1.075268\n",
              "\\N                    7850   4147.859827        7850  1.228917"
            ],
            "text/html": [
              "\n",
              "  <div id=\"df-52711a0d-cdf0-4def-842a-b56f7e1160b9\" class=\"colab-df-container\">\n",
              "    <div>\n",
              "<style scoped>\n",
              "    .dataframe tbody tr th:only-of-type {\n",
              "        vertical-align: middle;\n",
              "    }\n",
              "\n",
              "    .dataframe tbody tr th {\n",
              "        vertical-align: top;\n",
              "    }\n",
              "\n",
              "    .dataframe thead tr th {\n",
              "        text-align: left;\n",
              "    }\n",
              "\n",
              "    .dataframe thead tr:last-of-type th {\n",
              "        text-align: right;\n",
              "    }\n",
              "</style>\n",
              "<table border=\"1\" class=\"dataframe\">\n",
              "  <thead>\n",
              "    <tr>\n",
              "      <th></th>\n",
              "      <th colspan=\"2\" halign=\"left\">price</th>\n",
              "      <th colspan=\"2\" halign=\"left\">qty_ordered</th>\n",
              "    </tr>\n",
              "    <tr>\n",
              "      <th></th>\n",
              "      <th>count</th>\n",
              "      <th>mean</th>\n",
              "      <th>count</th>\n",
              "      <th>mean</th>\n",
              "    </tr>\n",
              "    <tr>\n",
              "      <th>category</th>\n",
              "      <th></th>\n",
              "      <th></th>\n",
              "      <th></th>\n",
              "      <th></th>\n",
              "    </tr>\n",
              "  </thead>\n",
              "  <tbody>\n",
              "    <tr>\n",
              "      <th>Appliances</th>\n",
              "      <td>52413</td>\n",
              "      <td>11058.435106</td>\n",
              "      <td>52413</td>\n",
              "      <td>1.110469</td>\n",
              "    </tr>\n",
              "    <tr>\n",
              "      <th>Beauty &amp; Grooming</th>\n",
              "      <td>41493</td>\n",
              "      <td>879.352246</td>\n",
              "      <td>41493</td>\n",
              "      <td>1.296291</td>\n",
              "    </tr>\n",
              "    <tr>\n",
              "      <th>Books</th>\n",
              "      <td>1870</td>\n",
              "      <td>483.590374</td>\n",
              "      <td>1870</td>\n",
              "      <td>1.412299</td>\n",
              "    </tr>\n",
              "    <tr>\n",
              "      <th>Computing</th>\n",
              "      <td>15933</td>\n",
              "      <td>10884.834663</td>\n",
              "      <td>15933</td>\n",
              "      <td>1.082721</td>\n",
              "    </tr>\n",
              "    <tr>\n",
              "      <th>Entertainment</th>\n",
              "      <td>26325</td>\n",
              "      <td>19256.489225</td>\n",
              "      <td>26325</td>\n",
              "      <td>1.041519</td>\n",
              "    </tr>\n",
              "    <tr>\n",
              "      <th>Health &amp; Sports</th>\n",
              "      <td>17502</td>\n",
              "      <td>1019.756279</td>\n",
              "      <td>17502</td>\n",
              "      <td>1.223860</td>\n",
              "    </tr>\n",
              "    <tr>\n",
              "      <th>Home &amp; Living</th>\n",
              "      <td>26504</td>\n",
              "      <td>1130.842838</td>\n",
              "      <td>26504</td>\n",
              "      <td>1.134357</td>\n",
              "    </tr>\n",
              "    <tr>\n",
              "      <th>Kids &amp; Baby</th>\n",
              "      <td>16489</td>\n",
              "      <td>672.947501</td>\n",
              "      <td>16489</td>\n",
              "      <td>1.125599</td>\n",
              "    </tr>\n",
              "    <tr>\n",
              "      <th>Men's Fashion</th>\n",
              "      <td>92218</td>\n",
              "      <td>907.655039</td>\n",
              "      <td>92218</td>\n",
              "      <td>1.099796</td>\n",
              "    </tr>\n",
              "    <tr>\n",
              "      <th>Mobiles &amp; Tablets</th>\n",
              "      <td>115709</td>\n",
              "      <td>17544.803049</td>\n",
              "      <td>115709</td>\n",
              "      <td>1.146791</td>\n",
              "    </tr>\n",
              "    <tr>\n",
              "      <th>Others</th>\n",
              "      <td>29208</td>\n",
              "      <td>2224.393728</td>\n",
              "      <td>29208</td>\n",
              "      <td>2.906430</td>\n",
              "    </tr>\n",
              "    <tr>\n",
              "      <th>School &amp; Education</th>\n",
              "      <td>3478</td>\n",
              "      <td>482.146144</td>\n",
              "      <td>3478</td>\n",
              "      <td>1.189189</td>\n",
              "    </tr>\n",
              "    <tr>\n",
              "      <th>Soghaat</th>\n",
              "      <td>34011</td>\n",
              "      <td>294.215404</td>\n",
              "      <td>34011</td>\n",
              "      <td>1.394196</td>\n",
              "    </tr>\n",
              "    <tr>\n",
              "      <th>Superstore</th>\n",
              "      <td>43611</td>\n",
              "      <td>610.436230</td>\n",
              "      <td>43611</td>\n",
              "      <td>1.892642</td>\n",
              "    </tr>\n",
              "    <tr>\n",
              "      <th>Women's Fashion</th>\n",
              "      <td>59720</td>\n",
              "      <td>1758.111619</td>\n",
              "      <td>59720</td>\n",
              "      <td>1.075268</td>\n",
              "    </tr>\n",
              "    <tr>\n",
              "      <th>\\N</th>\n",
              "      <td>7850</td>\n",
              "      <td>4147.859827</td>\n",
              "      <td>7850</td>\n",
              "      <td>1.228917</td>\n",
              "    </tr>\n",
              "  </tbody>\n",
              "</table>\n",
              "</div>\n",
              "    <div class=\"colab-df-buttons\">\n",
              "\n",
              "  <div class=\"colab-df-container\">\n",
              "    <button class=\"colab-df-convert\" onclick=\"convertToInteractive('df-52711a0d-cdf0-4def-842a-b56f7e1160b9')\"\n",
              "            title=\"Convert this dataframe to an interactive table.\"\n",
              "            style=\"display:none;\">\n",
              "\n",
              "  <svg xmlns=\"http://www.w3.org/2000/svg\" height=\"24px\" viewBox=\"0 -960 960 960\">\n",
              "    <path d=\"M120-120v-720h720v720H120Zm60-500h600v-160H180v160Zm220 220h160v-160H400v160Zm0 220h160v-160H400v160ZM180-400h160v-160H180v160Zm440 0h160v-160H620v160ZM180-180h160v-160H180v160Zm440 0h160v-160H620v160Z\"/>\n",
              "  </svg>\n",
              "    </button>\n",
              "\n",
              "  <style>\n",
              "    .colab-df-container {\n",
              "      display:flex;\n",
              "      gap: 12px;\n",
              "    }\n",
              "\n",
              "    .colab-df-convert {\n",
              "      background-color: #E8F0FE;\n",
              "      border: none;\n",
              "      border-radius: 50%;\n",
              "      cursor: pointer;\n",
              "      display: none;\n",
              "      fill: #1967D2;\n",
              "      height: 32px;\n",
              "      padding: 0 0 0 0;\n",
              "      width: 32px;\n",
              "    }\n",
              "\n",
              "    .colab-df-convert:hover {\n",
              "      background-color: #E2EBFA;\n",
              "      box-shadow: 0px 1px 2px rgba(60, 64, 67, 0.3), 0px 1px 3px 1px rgba(60, 64, 67, 0.15);\n",
              "      fill: #174EA6;\n",
              "    }\n",
              "\n",
              "    .colab-df-buttons div {\n",
              "      margin-bottom: 4px;\n",
              "    }\n",
              "\n",
              "    [theme=dark] .colab-df-convert {\n",
              "      background-color: #3B4455;\n",
              "      fill: #D2E3FC;\n",
              "    }\n",
              "\n",
              "    [theme=dark] .colab-df-convert:hover {\n",
              "      background-color: #434B5C;\n",
              "      box-shadow: 0px 1px 3px 1px rgba(0, 0, 0, 0.15);\n",
              "      filter: drop-shadow(0px 1px 2px rgba(0, 0, 0, 0.3));\n",
              "      fill: #FFFFFF;\n",
              "    }\n",
              "  </style>\n",
              "\n",
              "    <script>\n",
              "      const buttonEl =\n",
              "        document.querySelector('#df-52711a0d-cdf0-4def-842a-b56f7e1160b9 button.colab-df-convert');\n",
              "      buttonEl.style.display =\n",
              "        google.colab.kernel.accessAllowed ? 'block' : 'none';\n",
              "\n",
              "      async function convertToInteractive(key) {\n",
              "        const element = document.querySelector('#df-52711a0d-cdf0-4def-842a-b56f7e1160b9');\n",
              "        const dataTable =\n",
              "          await google.colab.kernel.invokeFunction('convertToInteractive',\n",
              "                                                    [key], {});\n",
              "        if (!dataTable) return;\n",
              "\n",
              "        const docLinkHtml = 'Like what you see? Visit the ' +\n",
              "          '<a target=\"_blank\" href=https://colab.research.google.com/notebooks/data_table.ipynb>data table notebook</a>'\n",
              "          + ' to learn more about interactive tables.';\n",
              "        element.innerHTML = '';\n",
              "        dataTable['output_type'] = 'display_data';\n",
              "        await google.colab.output.renderOutput(dataTable, element);\n",
              "        const docLink = document.createElement('div');\n",
              "        docLink.innerHTML = docLinkHtml;\n",
              "        element.appendChild(docLink);\n",
              "      }\n",
              "    </script>\n",
              "  </div>\n",
              "\n",
              "\n",
              "<div id=\"df-f6f005fd-792a-46c2-9135-dd9d99382862\">\n",
              "  <button class=\"colab-df-quickchart\" onclick=\"quickchart('df-f6f005fd-792a-46c2-9135-dd9d99382862')\"\n",
              "            title=\"Suggest charts\"\n",
              "            style=\"display:none;\">\n",
              "\n",
              "<svg xmlns=\"http://www.w3.org/2000/svg\" height=\"24px\"viewBox=\"0 0 24 24\"\n",
              "     width=\"24px\">\n",
              "    <g>\n",
              "        <path d=\"M19 3H5c-1.1 0-2 .9-2 2v14c0 1.1.9 2 2 2h14c1.1 0 2-.9 2-2V5c0-1.1-.9-2-2-2zM9 17H7v-7h2v7zm4 0h-2V7h2v10zm4 0h-2v-4h2v4z\"/>\n",
              "    </g>\n",
              "</svg>\n",
              "  </button>\n",
              "\n",
              "<style>\n",
              "  .colab-df-quickchart {\n",
              "      --bg-color: #E8F0FE;\n",
              "      --fill-color: #1967D2;\n",
              "      --hover-bg-color: #E2EBFA;\n",
              "      --hover-fill-color: #174EA6;\n",
              "      --disabled-fill-color: #AAA;\n",
              "      --disabled-bg-color: #DDD;\n",
              "  }\n",
              "\n",
              "  [theme=dark] .colab-df-quickchart {\n",
              "      --bg-color: #3B4455;\n",
              "      --fill-color: #D2E3FC;\n",
              "      --hover-bg-color: #434B5C;\n",
              "      --hover-fill-color: #FFFFFF;\n",
              "      --disabled-bg-color: #3B4455;\n",
              "      --disabled-fill-color: #666;\n",
              "  }\n",
              "\n",
              "  .colab-df-quickchart {\n",
              "    background-color: var(--bg-color);\n",
              "    border: none;\n",
              "    border-radius: 50%;\n",
              "    cursor: pointer;\n",
              "    display: none;\n",
              "    fill: var(--fill-color);\n",
              "    height: 32px;\n",
              "    padding: 0;\n",
              "    width: 32px;\n",
              "  }\n",
              "\n",
              "  .colab-df-quickchart:hover {\n",
              "    background-color: var(--hover-bg-color);\n",
              "    box-shadow: 0 1px 2px rgba(60, 64, 67, 0.3), 0 1px 3px 1px rgba(60, 64, 67, 0.15);\n",
              "    fill: var(--button-hover-fill-color);\n",
              "  }\n",
              "\n",
              "  .colab-df-quickchart-complete:disabled,\n",
              "  .colab-df-quickchart-complete:disabled:hover {\n",
              "    background-color: var(--disabled-bg-color);\n",
              "    fill: var(--disabled-fill-color);\n",
              "    box-shadow: none;\n",
              "  }\n",
              "\n",
              "  .colab-df-spinner {\n",
              "    border: 2px solid var(--fill-color);\n",
              "    border-color: transparent;\n",
              "    border-bottom-color: var(--fill-color);\n",
              "    animation:\n",
              "      spin 1s steps(1) infinite;\n",
              "  }\n",
              "\n",
              "  @keyframes spin {\n",
              "    0% {\n",
              "      border-color: transparent;\n",
              "      border-bottom-color: var(--fill-color);\n",
              "      border-left-color: var(--fill-color);\n",
              "    }\n",
              "    20% {\n",
              "      border-color: transparent;\n",
              "      border-left-color: var(--fill-color);\n",
              "      border-top-color: var(--fill-color);\n",
              "    }\n",
              "    30% {\n",
              "      border-color: transparent;\n",
              "      border-left-color: var(--fill-color);\n",
              "      border-top-color: var(--fill-color);\n",
              "      border-right-color: var(--fill-color);\n",
              "    }\n",
              "    40% {\n",
              "      border-color: transparent;\n",
              "      border-right-color: var(--fill-color);\n",
              "      border-top-color: var(--fill-color);\n",
              "    }\n",
              "    60% {\n",
              "      border-color: transparent;\n",
              "      border-right-color: var(--fill-color);\n",
              "    }\n",
              "    80% {\n",
              "      border-color: transparent;\n",
              "      border-right-color: var(--fill-color);\n",
              "      border-bottom-color: var(--fill-color);\n",
              "    }\n",
              "    90% {\n",
              "      border-color: transparent;\n",
              "      border-bottom-color: var(--fill-color);\n",
              "    }\n",
              "  }\n",
              "</style>\n",
              "\n",
              "  <script>\n",
              "    async function quickchart(key) {\n",
              "      const quickchartButtonEl =\n",
              "        document.querySelector('#' + key + ' button');\n",
              "      quickchartButtonEl.disabled = true;  // To prevent multiple clicks.\n",
              "      quickchartButtonEl.classList.add('colab-df-spinner');\n",
              "      try {\n",
              "        const charts = await google.colab.kernel.invokeFunction(\n",
              "            'suggestCharts', [key], {});\n",
              "      } catch (error) {\n",
              "        console.error('Error during call to suggestCharts:', error);\n",
              "      }\n",
              "      quickchartButtonEl.classList.remove('colab-df-spinner');\n",
              "      quickchartButtonEl.classList.add('colab-df-quickchart-complete');\n",
              "    }\n",
              "    (() => {\n",
              "      let quickchartButtonEl =\n",
              "        document.querySelector('#df-f6f005fd-792a-46c2-9135-dd9d99382862 button');\n",
              "      quickchartButtonEl.style.display =\n",
              "        google.colab.kernel.accessAllowed ? 'block' : 'none';\n",
              "    })();\n",
              "  </script>\n",
              "</div>\n",
              "\n",
              "  <div id=\"id_b0b10a3c-3eec-40ff-9fbc-dcc8810b7fad\">\n",
              "    <style>\n",
              "      .colab-df-generate {\n",
              "        background-color: #E8F0FE;\n",
              "        border: none;\n",
              "        border-radius: 50%;\n",
              "        cursor: pointer;\n",
              "        display: none;\n",
              "        fill: #1967D2;\n",
              "        height: 32px;\n",
              "        padding: 0 0 0 0;\n",
              "        width: 32px;\n",
              "      }\n",
              "\n",
              "      .colab-df-generate:hover {\n",
              "        background-color: #E2EBFA;\n",
              "        box-shadow: 0px 1px 2px rgba(60, 64, 67, 0.3), 0px 1px 3px 1px rgba(60, 64, 67, 0.15);\n",
              "        fill: #174EA6;\n",
              "      }\n",
              "\n",
              "      [theme=dark] .colab-df-generate {\n",
              "        background-color: #3B4455;\n",
              "        fill: #D2E3FC;\n",
              "      }\n",
              "\n",
              "      [theme=dark] .colab-df-generate:hover {\n",
              "        background-color: #434B5C;\n",
              "        box-shadow: 0px 1px 3px 1px rgba(0, 0, 0, 0.15);\n",
              "        filter: drop-shadow(0px 1px 2px rgba(0, 0, 0, 0.3));\n",
              "        fill: #FFFFFF;\n",
              "      }\n",
              "    </style>\n",
              "    <button class=\"colab-df-generate\" onclick=\"generateWithVariable('category_df_price')\"\n",
              "            title=\"Generate code using this dataframe.\"\n",
              "            style=\"display:none;\">\n",
              "\n",
              "  <svg xmlns=\"http://www.w3.org/2000/svg\" height=\"24px\"viewBox=\"0 0 24 24\"\n",
              "       width=\"24px\">\n",
              "    <path d=\"M7,19H8.4L18.45,9,17,7.55,7,17.6ZM5,21V16.75L18.45,3.32a2,2,0,0,1,2.83,0l1.4,1.43a1.91,1.91,0,0,1,.58,1.4,1.91,1.91,0,0,1-.58,1.4L9.25,21ZM18.45,9,17,7.55Zm-12,3A5.31,5.31,0,0,0,4.9,8.1,5.31,5.31,0,0,0,1,6.5,5.31,5.31,0,0,0,4.9,4.9,5.31,5.31,0,0,0,6.5,1,5.31,5.31,0,0,0,8.1,4.9,5.31,5.31,0,0,0,12,6.5,5.46,5.46,0,0,0,6.5,12Z\"/>\n",
              "  </svg>\n",
              "    </button>\n",
              "    <script>\n",
              "      (() => {\n",
              "      const buttonEl =\n",
              "        document.querySelector('#id_b0b10a3c-3eec-40ff-9fbc-dcc8810b7fad button.colab-df-generate');\n",
              "      buttonEl.style.display =\n",
              "        google.colab.kernel.accessAllowed ? 'block' : 'none';\n",
              "\n",
              "      buttonEl.onclick = () => {\n",
              "        google.colab.notebook.generateWithVariable('category_df_price');\n",
              "      }\n",
              "      })();\n",
              "    </script>\n",
              "  </div>\n",
              "\n",
              "    </div>\n",
              "  </div>\n"
            ]
          },
          "metadata": {},
          "execution_count": 33
        }
      ],
      "source": [
        "category_df_price"
      ]
    },
    {
      "cell_type": "markdown",
      "metadata": {
        "id": "jvCxdQofZnlO"
      },
      "source": [
        "# Visualization"
      ]
    },
    {
      "cell_type": "markdown",
      "metadata": {
        "id": "xlanPq1Dapw2"
      },
      "source": [
        "You need the line below to directly use `matplotlib` on `pandas`"
      ]
    },
    {
      "cell_type": "code",
      "execution_count": null,
      "metadata": {
        "id": "7Urkz0j6XFAD"
      },
      "outputs": [],
      "source": [
        "%matplotlib inline"
      ]
    },
    {
      "cell_type": "code",
      "execution_count": null,
      "metadata": {
        "id": "_qGjHJ44Zvwq",
        "colab": {
          "base_uri": "https://localhost:8080/",
          "height": 687
        },
        "outputId": "239b17e4-e29b-40bd-d3b4-e401dfabbf69"
      },
      "outputs": [
        {
          "output_type": "display_data",
          "data": {
            "text/plain": [
              "<Figure size 1000x600 with 1 Axes>"
            ],
            "image/png": "[encoded data removed]"
          },
          "metadata": {}
        }
      ],
      "source": [
        "ax = category_df_price.plot(kind='bar', figsize=(10, 6), color=['skyblue', 'orange'])\n",
        "\n",
        "# Set labels and title\n",
        "ax.set_xlabel('Category')\n",
        "ax.set_ylabel('Count')\n",
        "ax.set_title('Category-wise Price and Quantity Ordered')\n",
        "\n",
        "# Show the legend\n",
        "ax.legend([\"Price Count\", \"Price Mean\", \"Qty Ordered Count\", \"Qty Ordered Mean\"])\n",
        "plt.show()\n"
      ]
    },
    {
      "cell_type": "code",
      "execution_count": null,
      "metadata": {
        "id": "OlRh4XNRZ3cd"
      },
      "outputs": [],
      "source": [
        "category_sum = df.groupby('category').price.sum()"
      ]
    },
    {
      "cell_type": "code",
      "execution_count": null,
      "metadata": {
        "id": "mz1Bqtcna8Nt",
        "colab": {
          "base_uri": "https://localhost:8080/",
          "height": 687
        },
        "outputId": "1012b21c-1ee3-46d2-b151-a5e265d06753"
      },
      "outputs": [
        {
          "output_type": "display_data",
          "data": {
            "text/plain": [
              "<Figure size 1000x600 with 1 Axes>"
            ],
            "image/png": "[encoded data removed]"
          },
          "metadata": {}
        }
      ],
      "source": [
        "ax = category_sum.plot(kind='bar', figsize=(10, 6), color='orange')\n",
        "\n",
        "# Set labels and title\n",
        "ax.set_xlabel('Category')\n",
        "ax.set_ylabel('price')\n",
        "ax.set_title('Aggregated Sum of Prices by Category (in Exponents)')\n",
        "\n",
        "# Show the legend\n",
        "plt.show()\n"
      ]
    },
    {
      "cell_type": "code",
      "execution_count": null,
      "metadata": {
        "id": "zf7zZJkLu7fZ"
      },
      "outputs": [],
      "source": [
        "category_sum = df.groupby('category').qty_ordered.min()"
      ]
    },
    {
      "cell_type": "code",
      "execution_count": null,
      "metadata": {
        "id": "GHnr6oiBmX17",
        "colab": {
          "base_uri": "https://localhost:8080/",
          "height": 687
        },
        "outputId": "2f18dcbc-d13f-4421-e6e4-19e7b9ff1f76"
      },
      "outputs": [
        {
          "output_type": "display_data",
          "data": {
            "text/plain": [
              "<Figure size 1000x600 with 1 Axes>"
            ],
            "image/png": "[encoded data removed]"
          },
          "metadata": {}
        }
      ],
      "source": [
        "ax = category_sum.plot(kind='bar', figsize=(10, 6), color='orange')\n",
        "\n",
        "# Set labels and title\n",
        "ax.set_xlabel('Category')\n",
        "ax.set_ylabel('Count')\n",
        "ax.set_title('Aggregated Sum of Prices by Category (in Exponents)')\n",
        "\n",
        "# Show the legend\n",
        "plt.show()"
      ]
    },
    {
      "cell_type": "code",
      "execution_count": null,
      "metadata": {
        "id": "M34N_8E9dYw_"
      },
      "outputs": [],
      "source": [
        "Group_Year = df.groupby('Year').price.agg([\"mean\",\"max\"])"
      ]
    },
    {
      "cell_type": "code",
      "execution_count": null,
      "metadata": {
        "id": "BqkT8loBncT4",
        "colab": {
          "base_uri": "https://localhost:8080/",
          "height": 687
        },
        "outputId": "28d0d168-5692-44b9-9d9b-61ba85aa512e"
      },
      "outputs": [
        {
          "output_type": "display_data",
          "data": {
            "text/plain": [
              "<Figure size 1000x600 with 1 Axes>"
            ],
            "image/png": "[encoded data removed]"
          },
          "metadata": {}
        }
      ],
      "source": [
        "ax = category_sum.plot(kind='bar', figsize=(10, 6), color='orange')\n",
        "\n",
        "# Set labels and title\n",
        "ax.set_xlabel('Category')\n",
        "ax.set_ylabel('price')\n",
        "ax.set_title('Aggregated Sum of Prices by Category (in Exponents)')\n",
        "\n",
        "# Show the legend\n",
        "plt.show()"
      ]
    },
    {
      "cell_type": "code",
      "execution_count": null,
      "metadata": {
        "id": "g8CUBCVNfxZi"
      },
      "outputs": [],
      "source": [
        "Group_Year = df.groupby('Year').price.mean()"
      ]
    },
    {
      "cell_type": "code",
      "execution_count": null,
      "metadata": {
        "id": "oIAjT-bcoO1f",
        "colab": {
          "base_uri": "https://localhost:8080/",
          "height": 687
        },
        "outputId": "a2056aeb-119a-415c-fc2c-7a2be5a66225"
      },
      "outputs": [
        {
          "output_type": "display_data",
          "data": {
            "text/plain": [
              "<Figure size 1000x600 with 1 Axes>"
            ],
            "image/png": "[encoded data removed]"
          },
          "metadata": {}
        }
      ],
      "source": [
        "ax = category_sum.plot(kind='bar', figsize=(10, 6), color='blue')\n",
        "\n",
        "# Set labels and title\n",
        "ax.set_xlabel('Category')\n",
        "ax.set_ylabel('price')\n",
        "ax.set_title('Aggregated Sum of Prices by Category (in Exponents)')\n",
        "\n",
        "# Show the legend\n",
        "plt.show()"
      ]
    },
    {
      "cell_type": "code",
      "execution_count": null,
      "metadata": {
        "id": "OOlR3pXeoen2"
      },
      "outputs": [],
      "source": [
        "Group_Year = df.groupby('Year').price.sum()"
      ]
    },
    {
      "cell_type": "code",
      "execution_count": null,
      "metadata": {
        "id": "LSNHpp_4orE9",
        "colab": {
          "base_uri": "https://localhost:8080/",
          "height": 687
        },
        "outputId": "ac2b0117-193d-42c7-a18b-ea3bd8fe9b19"
      },
      "outputs": [
        {
          "output_type": "display_data",
          "data": {
            "text/plain": [
              "<Figure size 1000x600 with 1 Axes>"
            ],
            "image/png": "[encoded data removed]"
          },
          "metadata": {}
        }
      ],
      "source": [
        "ax = category_sum.plot(kind='bar', figsize=(10, 6), color='red')\n",
        "\n",
        "# Set labels and title\n",
        "ax.set_xlabel('Category')\n",
        "ax.set_ylabel('price')\n",
        "ax.set_title('Aggregated Sum of Prices by Category (in Exponents)')\n",
        "\n",
        "# Show the legend\n",
        "plt.show()"
      ]
    },
    {
      "cell_type": "code",
      "execution_count": null,
      "metadata": {
        "id": "aeFFmAd0pqmr"
      },
      "outputs": [],
      "source": [
        "Group_Month = df.groupby('Month').price.sum()"
      ]
    },
    {
      "cell_type": "code",
      "execution_count": null,
      "metadata": {
        "colab": {
          "base_uri": "https://localhost:8080/",
          "height": 568
        },
        "id": "4gvFt372qbq2",
        "outputId": "9de28b41-643c-48e3-f79a-02357debc796"
      },
      "outputs": [
        {
          "output_type": "display_data",
          "data": {
            "text/plain": [
              "<Figure size 1000x600 with 1 Axes>"
            ],
            "image/png": "[encoded data removed]"
          },
          "metadata": {}
        }
      ],
      "source": [
        "ax = Group_Month.plot(kind='bar', figsize=(10, 6), color='gold')\n",
        "\n",
        "# Set labels and title\n",
        "ax.set_xlabel('Month')\n",
        "ax.set_ylabel('Count')\n",
        "ax.set_title('Aggregated Sum of Prices by Month (in Exponents)')\n",
        "\n",
        "# Show the legend\n",
        "plt.show()"
      ]
    },
    {
      "cell_type": "code",
      "execution_count": null,
      "metadata": {
        "id": "J0VoYnFatxAR"
      },
      "outputs": [],
      "source": [
        "Average_Month = df.groupby('Month').price.mean()"
      ]
    },
    {
      "cell_type": "code",
      "execution_count": null,
      "metadata": {
        "colab": {
          "base_uri": "https://localhost:8080/",
          "height": 568
        },
        "id": "gtOpvnYauHtu",
        "outputId": "7d2998a9-44f9-41a4-cc48-1c0d35484458"
      },
      "outputs": [
        {
          "output_type": "display_data",
          "data": {
            "text/plain": [
              "<Figure size 1000x600 with 1 Axes>"
            ],
            "image/png": "[encoded data removed]"
          },
          "metadata": {}
        }
      ],
      "source": [
        "ax = Average_Month.plot(kind='bar', figsize=(10, 6), color='purple')\n",
        "\n",
        "# Set labels and title\n",
        "ax.set_xlabel('Month')\n",
        "ax.set_ylabel('Count')\n",
        "ax.set_title('Average Sum of Prices by Month (in Exponents)')\n",
        "\n",
        "# Show the legend\n",
        "plt.show()"
      ]
    },
    {
      "cell_type": "code",
      "source": [
        "df.columns"
      ],
      "metadata": {
        "colab": {
          "base_uri": "https://localhost:8080/"
        },
        "id": "fG3cOfeogwUH",
        "outputId": "03dd696c-2d9f-4bd7-9051-10208a769175"
      },
      "execution_count": null,
      "outputs": [
        {
          "output_type": "execute_result",
          "data": {
            "text/plain": [
              "Index(['status', 'price', 'qty_ordered', 'grand_total', 'increment_id',\n",
              "       'category', 'discount_amount', 'payment_method', 'Working Date',\n",
              "       'BI Status', ' MV ', 'Year', 'Month', 'Customer Since',\n",
              "       'discount_percentage', 'day'],\n",
              "      dtype='object')"
            ]
          },
          "metadata": {},
          "execution_count": 50
        }
      ]
    },
    {
      "cell_type": "code",
      "execution_count": null,
      "metadata": {
        "id": "L4D98jgWuHQq"
      },
      "outputs": [],
      "source": [
        "Group_Day = df.groupby('day').price.sum()"
      ]
    },
    {
      "cell_type": "code",
      "execution_count": null,
      "metadata": {
        "colab": {
          "base_uri": "https://localhost:8080/",
          "height": 568
        },
        "id": "RSrT224bviuj",
        "outputId": "96598a35-b65e-4263-d8aa-5a2b109265cd"
      },
      "outputs": [
        {
          "output_type": "display_data",
          "data": {
            "text/plain": [
              "<Figure size 1000x600 with 1 Axes>"
            ],
            "image/png": "[encoded data removed]"
          },
          "metadata": {}
        }
      ],
      "source": [
        "ax = Group_Day.plot(x=\"price\", y=\"day\", kind='bar', figsize=(10, 6), color='green')\n",
        "\n",
        "# Set labels and title\n",
        "ax.set_xlabel('Day')\n",
        "ax.set_ylabel('Prices')\n",
        "ax.set_title('Aggregated Sum of Prices by Day (in Exponents)')\n",
        "# Show the legend\n",
        "plt.show()"
      ]
    },
    {
      "cell_type": "code",
      "source": [],
      "metadata": {
        "id": "9QAnOs6-f6Tk"
      },
      "execution_count": null,
      "outputs": []
    },
    {
      "cell_type": "code",
      "execution_count": null,
      "metadata": {
        "id": "BP6_jt4xv8kZ"
      },
      "outputs": [],
      "source": [
        "Average_Day = df.groupby('day').price.mean()"
      ]
    },
    {
      "cell_type": "code",
      "execution_count": null,
      "metadata": {
        "colab": {
          "base_uri": "https://localhost:8080/",
          "height": 568
        },
        "id": "N3EQXfn8v-Xr",
        "outputId": "71dad104-62be-4cee-b866-693a2f8628c1"
      },
      "outputs": [
        {
          "output_type": "display_data",
          "data": {
            "text/plain": [
              "<Figure size 1000x600 with 1 Axes>"
            ],
            "image/png": "[encoded data removed]"
          },
          "metadata": {}
        }
      ],
      "source": [
        "ax = Average_Day.plot(kind='bar', figsize=(10, 6), color='black')\n",
        "\n",
        "# Set labels and title\n",
        "ax.set_xlabel('Day')\n",
        "ax.set_ylabel('Count')\n",
        "ax.set_title('Average Sum of Prices by Day (in Exponents)')\n",
        "\n",
        "# Show the legend\n",
        "plt.show()"
      ]
    },
    {
      "cell_type": "markdown",
      "source": [
        "# Box Plot to measure outliers"
      ],
      "metadata": {
        "id": "_WHnEbpVhFUs"
      }
    },
    {
      "cell_type": "code",
      "execution_count": null,
      "metadata": {
        "id": "K1K5UrFTex94",
        "colab": {
          "base_uri": "https://localhost:8080/",
          "height": 519
        },
        "outputId": "506ac8d2-08d4-4d09-ee6b-b6693eb19386"
      },
      "outputs": [
        {
          "output_type": "display_data",
          "data": {
            "text/plain": [
              "<Figure size 1000x600 with 1 Axes>"
            ],
            "image/png": "[encoded data removed]"
          },
          "metadata": {}
        }
      ],
      "source": [
        "plt.figure(figsize=(10, 6))\n",
        "sns.boxplot(data=df['grand_total'])\n",
        "plt.show()"
      ]
    },
    {
      "cell_type": "code",
      "source": [
        "# total_outlier = df[df['grand_total'] > 2_500_000].count()\n",
        "total_outlier = df[df['grand_total'] > 2_500_000]\n",
        "df = df.drop(df[df['grand_total'] > 2_500_000].index)"
      ],
      "metadata": {
        "id": "LUySGiACk5Ml"
      },
      "execution_count": null,
      "outputs": []
    },
    {
      "cell_type": "code",
      "source": [
        "df.info()"
      ],
      "metadata": {
        "colab": {
          "base_uri": "https://localhost:8080/"
        },
        "id": "YVhXj72slKBW",
        "outputId": "3e946c09-d0de-4756-c76f-fae9235dfc0a"
      },
      "execution_count": null,
      "outputs": [
        {
          "output_type": "stream",
          "name": "stdout",
          "text": [
            "<class 'pandas.core.frame.DataFrame'>\n",
            "Int64Index: 584328 entries, 0 to 584523\n",
            "Data columns (total 16 columns):\n",
            " #   Column               Non-Null Count   Dtype         \n",
            "---  ------               --------------   -----         \n",
            " 0   status               584328 non-null  object        \n",
            " 1   price                584328 non-null  float64       \n",
            " 2   qty_ordered          584328 non-null  float64       \n",
            " 3   grand_total          584328 non-null  float64       \n",
            " 4   increment_id         584328 non-null  object        \n",
            " 5   category             584328 non-null  object        \n",
            " 6   discount_amount      584328 non-null  float64       \n",
            " 7   payment_method       584328 non-null  object        \n",
            " 8   Working Date         584328 non-null  datetime64[ns]\n",
            " 9   BI Status            584328 non-null  object        \n",
            " 10   MV                  584328 non-null  object        \n",
            " 11  Year                 584328 non-null  int64         \n",
            " 12  Month                584328 non-null  int64         \n",
            " 13  Customer Since       584328 non-null  datetime64[ns]\n",
            " 14  discount_percentage  577483 non-null  float64       \n",
            " 15  day                  584328 non-null  int64         \n",
            "dtypes: datetime64[ns](2), float64(5), int64(3), object(6)\n",
            "memory usage: 75.8+ MB\n"
          ]
        }
      ]
    },
    {
      "cell_type": "code",
      "source": [
        "plt.figure(figsize=(10, 6))\n",
        "sns.boxplot(data=df['grand_total'])\n",
        "plt.show()"
      ],
      "metadata": {
        "colab": {
          "base_uri": "https://localhost:8080/",
          "height": 519
        },
        "id": "VQXtVbFekqh9",
        "outputId": "bdc2557d-1ffe-43a4-b785-6db0fc69e9c5"
      },
      "execution_count": null,
      "outputs": [
        {
          "output_type": "display_data",
          "data": {
            "text/plain": [
              "<Figure size 1000x600 with 1 Axes>"
            ],
            "image/png": "[encoded data removed]"
          },
          "metadata": {}
        }
      ]
    },
    {
      "cell_type": "code",
      "source": [],
      "metadata": {
        "id": "it3xN1Vikz2Q"
      },
      "execution_count": null,
      "outputs": []
    },
    {
      "cell_type": "markdown",
      "source": [
        "We got some grand_total"
      ],
      "metadata": {
        "id": "6qWaOj9cjKO2"
      }
    },
    {
      "cell_type": "code",
      "source": [
        "df.columns"
      ],
      "metadata": {
        "colab": {
          "base_uri": "https://localhost:8080/"
        },
        "id": "E88hS9Rkh7Vy",
        "outputId": "4193e4b2-b35c-4d05-d357-bdd6c3f1df08"
      },
      "execution_count": null,
      "outputs": [
        {
          "output_type": "execute_result",
          "data": {
            "text/plain": [
              "Index(['status', 'price', 'qty_ordered', 'grand_total', 'increment_id',\n",
              "       'category', 'discount_amount', 'payment_method', 'Working Date',\n",
              "       'BI Status', ' MV ', 'Year', 'Month', 'Customer Since',\n",
              "       'discount_percentage', 'day'],\n",
              "      dtype='object')"
            ]
          },
          "metadata": {},
          "execution_count": 57
        }
      ]
    },
    {
      "cell_type": "code",
      "source": [
        "plt.figure(figsize=(8,8))\n",
        "sns.boxplot(data=df['discount_amount'])\n",
        "plt.show()"
      ],
      "metadata": {
        "colab": {
          "base_uri": "https://localhost:8080/",
          "height": 657
        },
        "id": "QMt_MqCqhJzN",
        "outputId": "94fbe0f4-69f1-4aed-a7e9-b866775d8fa4"
      },
      "execution_count": 75,
      "outputs": [
        {
          "output_type": "display_data",
          "data": {
            "text/plain": [
              "<Figure size 800x800 with 1 Axes>"
            ],
            "image/png": "[encoded data removed]"
          },
          "metadata": {}
        }
      ]
    },
    {
      "cell_type": "code",
      "source": [
        "# total_outlier = df[df['grand_total'] > 2_500_000].count()\n",
        "total_outlier = df[df['discount_amount'] > 60_000]\n",
        "# len(total_outlier)\n",
        "df = df.drop(df[df['discount_amount'] > 60_000].index)"
      ],
      "metadata": {
        "id": "-IC13bDIv-vn"
      },
      "execution_count": 74,
      "outputs": []
    },
    {
      "cell_type": "code",
      "source": [
        "plt.figure(figsize=(8,8))\n",
        "sns.boxplot(data=df['status'])\n",
        "plt.show()"
      ],
      "metadata": {
        "colab": {
          "base_uri": "https://localhost:8080/",
          "height": 657
        },
        "id": "HweleSSHrsW_",
        "outputId": "86a274f0-d921-4889-bec8-eb0da04d1136"
      },
      "execution_count": null,
      "outputs": [
        {
          "output_type": "display_data",
          "data": {
            "text/plain": [
              "<Figure size 800x800 with 1 Axes>"
            ],
            "image/png": "[encoded data removed]"
          },
          "metadata": {}
        }
      ]
    },
    {
      "cell_type": "markdown",
      "metadata": {
        "id": "97463CCx-4JS"
      },
      "source": [
        "Numeric Columns\n"
      ]
    },
    {
      "cell_type": "markdown",
      "metadata": {
        "id": "vpMGR-CAFPVs"
      },
      "source": [
        "`MV` column to int (1000 = 1,000). str.replace(\",\", \"\")\n",
        "\n",
        "`increment_id` to int\n",
        "\n",
        "convert `working_date` to datetime object pd.to_datetime()"
      ]
    },
    {
      "cell_type": "code",
      "execution_count": null,
      "metadata": {
        "id": "NZ4nnpDwzdvK"
      },
      "outputs": [],
      "source": [
        "def remove_comma_and_convert(MV):\n",
        "  try:\n",
        "    value = float(MV.replace(\",\", \"\"))\n",
        "    return MV\n",
        "  except:\n",
        "    return MV\n",
        "\n",
        "def remove_comma_and_convert_int(MV):\n",
        "  try:\n",
        "    value = int(MV.replace(\",\", \"\"))\n",
        "    return MV\n",
        "  except:\n",
        "    return MV"
      ]
    },
    {
      "cell_type": "code",
      "execution_count": null,
      "metadata": {
        "colab": {
          "base_uri": "https://localhost:8080/",
          "height": 330
        },
        "id": "N7geWOStz80S",
        "outputId": "35e17390-f5f1-460b-a735-3bc21c735a09"
      },
      "outputs": [
        {
          "output_type": "execute_result",
          "data": {
            "text/plain": [
              "          status   price  qty_ordered  grand_total increment_id  \\\n",
              "111740  complete   850.0          1.0          0.0    100238233   \n",
              "449620  complete  8389.0          1.0       7400.1    100457628   \n",
              "455106  canceled     2.0          1.0        152.0    100462000   \n",
              "87112   canceled  1045.0          1.0        815.1    100219447   \n",
              "169156  complete   700.0          1.0        780.0    100280893   \n",
              "\n",
              "                 category  discount_amount  payment_method Working Date  \\\n",
              "111740  Mobiles & Tablets              0.0  customercredit   11/27/2016   \n",
              "449620         Appliances            988.9         Payaxis    2/18/2018   \n",
              "455106             Others              0.0         Payaxis    2/21/2018   \n",
              "87112           Computing            229.9         Payaxis   11/24/2016   \n",
              "169156            Soghaat            169.9      jazzwallet    3/19/2017   \n",
              "\n",
              "       BI Status      MV   Year  Month Customer Since  discount_percentage  \\\n",
              "111740       Net     850   2016     11     2016-11-01                  NaN   \n",
              "449620       Net   8,389   2018      2     2018-02-01            13.363333   \n",
              "455106     Gross       2   2018      2     2016-07-01             0.000000   \n",
              "87112      Gross   1,045   2016     11     2016-11-01            28.205128   \n",
              "169156       Net     700   2017      3     2017-03-01            21.782051   \n",
              "\n",
              "        day  \n",
              "111740   27  \n",
              "449620   18  \n",
              "455106   21  \n",
              "87112    24  \n",
              "169156   19  "
            ],
            "text/html": [
              "\n",
              "  <div id=\"df-4d50e319-8a38-4f9d-91d1-8149b0c27011\" class=\"colab-df-container\">\n",
              "    <div>\n",
              "<style scoped>\n",
              "    .dataframe tbody tr th:only-of-type {\n",
              "        vertical-align: middle;\n",
              "    }\n",
              "\n",
              "    .dataframe tbody tr th {\n",
              "        vertical-align: top;\n",
              "    }\n",
              "\n",
              "    .dataframe thead th {\n",
              "        text-align: right;\n",
              "    }\n",
              "</style>\n",
              "<table border=\"1\" class=\"dataframe\">\n",
              "  <thead>\n",
              "    <tr style=\"text-align: right;\">\n",
              "      <th></th>\n",
              "      <th>status</th>\n",
              "      <th>price</th>\n",
              "      <th>qty_ordered</th>\n",
              "      <th>grand_total</th>\n",
              "      <th>increment_id</th>\n",
              "      <th>category</th>\n",
              "      <th>discount_amount</th>\n",
              "      <th>payment_method</th>\n",
              "      <th>Working Date</th>\n",
              "      <th>BI Status</th>\n",
              "      <th>MV</th>\n",
              "      <th>Year</th>\n",
              "      <th>Month</th>\n",
              "      <th>Customer Since</th>\n",
              "      <th>discount_percentage</th>\n",
              "      <th>day</th>\n",
              "    </tr>\n",
              "  </thead>\n",
              "  <tbody>\n",
              "    <tr>\n",
              "      <th>111740</th>\n",
              "      <td>complete</td>\n",
              "      <td>850.0</td>\n",
              "      <td>1.0</td>\n",
              "      <td>0.0</td>\n",
              "      <td>100238233</td>\n",
              "      <td>Mobiles &amp; Tablets</td>\n",
              "      <td>0.0</td>\n",
              "      <td>customercredit</td>\n",
              "      <td>11/27/2016</td>\n",
              "      <td>Net</td>\n",
              "      <td>850</td>\n",
              "      <td>2016</td>\n",
              "      <td>11</td>\n",
              "      <td>2016-11-01</td>\n",
              "      <td>NaN</td>\n",
              "      <td>27</td>\n",
              "    </tr>\n",
              "    <tr>\n",
              "      <th>449620</th>\n",
              "      <td>complete</td>\n",
              "      <td>8389.0</td>\n",
              "      <td>1.0</td>\n",
              "      <td>7400.1</td>\n",
              "      <td>100457628</td>\n",
              "      <td>Appliances</td>\n",
              "      <td>988.9</td>\n",
              "      <td>Payaxis</td>\n",
              "      <td>2/18/2018</td>\n",
              "      <td>Net</td>\n",
              "      <td>8,389</td>\n",
              "      <td>2018</td>\n",
              "      <td>2</td>\n",
              "      <td>2018-02-01</td>\n",
              "      <td>13.363333</td>\n",
              "      <td>18</td>\n",
              "    </tr>\n",
              "    <tr>\n",
              "      <th>455106</th>\n",
              "      <td>canceled</td>\n",
              "      <td>2.0</td>\n",
              "      <td>1.0</td>\n",
              "      <td>152.0</td>\n",
              "      <td>100462000</td>\n",
              "      <td>Others</td>\n",
              "      <td>0.0</td>\n",
              "      <td>Payaxis</td>\n",
              "      <td>2/21/2018</td>\n",
              "      <td>Gross</td>\n",
              "      <td>2</td>\n",
              "      <td>2018</td>\n",
              "      <td>2</td>\n",
              "      <td>2016-07-01</td>\n",
              "      <td>0.000000</td>\n",
              "      <td>21</td>\n",
              "    </tr>\n",
              "    <tr>\n",
              "      <th>87112</th>\n",
              "      <td>canceled</td>\n",
              "      <td>1045.0</td>\n",
              "      <td>1.0</td>\n",
              "      <td>815.1</td>\n",
              "      <td>100219447</td>\n",
              "      <td>Computing</td>\n",
              "      <td>229.9</td>\n",
              "      <td>Payaxis</td>\n",
              "      <td>11/24/2016</td>\n",
              "      <td>Gross</td>\n",
              "      <td>1,045</td>\n",
              "      <td>2016</td>\n",
              "      <td>11</td>\n",
              "      <td>2016-11-01</td>\n",
              "      <td>28.205128</td>\n",
              "      <td>24</td>\n",
              "    </tr>\n",
              "    <tr>\n",
              "      <th>169156</th>\n",
              "      <td>complete</td>\n",
              "      <td>700.0</td>\n",
              "      <td>1.0</td>\n",
              "      <td>780.0</td>\n",
              "      <td>100280893</td>\n",
              "      <td>Soghaat</td>\n",
              "      <td>169.9</td>\n",
              "      <td>jazzwallet</td>\n",
              "      <td>3/19/2017</td>\n",
              "      <td>Net</td>\n",
              "      <td>700</td>\n",
              "      <td>2017</td>\n",
              "      <td>3</td>\n",
              "      <td>2017-03-01</td>\n",
              "      <td>21.782051</td>\n",
              "      <td>19</td>\n",
              "    </tr>\n",
              "  </tbody>\n",
              "</table>\n",
              "</div>\n",
              "    <div class=\"colab-df-buttons\">\n",
              "\n",
              "  <div class=\"colab-df-container\">\n",
              "    <button class=\"colab-df-convert\" onclick=\"convertToInteractive('df-4d50e319-8a38-4f9d-91d1-8149b0c27011')\"\n",
              "            title=\"Convert this dataframe to an interactive table.\"\n",
              "            style=\"display:none;\">\n",
              "\n",
              "  <svg xmlns=\"http://www.w3.org/2000/svg\" height=\"24px\" viewBox=\"0 -960 960 960\">\n",
              "    <path d=\"M120-120v-720h720v720H120Zm60-500h600v-160H180v160Zm220 220h160v-160H400v160Zm0 220h160v-160H400v160ZM180-400h160v-160H180v160Zm440 0h160v-160H620v160ZM180-180h160v-160H180v160Zm440 0h160v-160H620v160Z\"/>\n",
              "  </svg>\n",
              "    </button>\n",
              "\n",
              "  <style>\n",
              "    .colab-df-container {\n",
              "      display:flex;\n",
              "      gap: 12px;\n",
              "    }\n",
              "\n",
              "    .colab-df-convert {\n",
              "      background-color: #E8F0FE;\n",
              "      border: none;\n",
              "      border-radius: 50%;\n",
              "      cursor: pointer;\n",
              "      display: none;\n",
              "      fill: #1967D2;\n",
              "      height: 32px;\n",
              "      padding: 0 0 0 0;\n",
              "      width: 32px;\n",
              "    }\n",
              "\n",
              "    .colab-df-convert:hover {\n",
              "      background-color: #E2EBFA;\n",
              "      box-shadow: 0px 1px 2px rgba(60, 64, 67, 0.3), 0px 1px 3px 1px rgba(60, 64, 67, 0.15);\n",
              "      fill: #174EA6;\n",
              "    }\n",
              "\n",
              "    .colab-df-buttons div {\n",
              "      margin-bottom: 4px;\n",
              "    }\n",
              "\n",
              "    [theme=dark] .colab-df-convert {\n",
              "      background-color: #3B4455;\n",
              "      fill: #D2E3FC;\n",
              "    }\n",
              "\n",
              "    [theme=dark] .colab-df-convert:hover {\n",
              "      background-color: #434B5C;\n",
              "      box-shadow: 0px 1px 3px 1px rgba(0, 0, 0, 0.15);\n",
              "      filter: drop-shadow(0px 1px 2px rgba(0, 0, 0, 0.3));\n",
              "      fill: #FFFFFF;\n",
              "    }\n",
              "  </style>\n",
              "\n",
              "    <script>\n",
              "      const buttonEl =\n",
              "        document.querySelector('#df-4d50e319-8a38-4f9d-91d1-8149b0c27011 button.colab-df-convert');\n",
              "      buttonEl.style.display =\n",
              "        google.colab.kernel.accessAllowed ? 'block' : 'none';\n",
              "\n",
              "      async function convertToInteractive(key) {\n",
              "        const element = document.querySelector('#df-4d50e319-8a38-4f9d-91d1-8149b0c27011');\n",
              "        const dataTable =\n",
              "          await google.colab.kernel.invokeFunction('convertToInteractive',\n",
              "                                                    [key], {});\n",
              "        if (!dataTable) return;\n",
              "\n",
              "        const docLinkHtml = 'Like what you see? Visit the ' +\n",
              "          '<a target=\"_blank\" href=https://colab.research.google.com/notebooks/data_table.ipynb>data table notebook</a>'\n",
              "          + ' to learn more about interactive tables.';\n",
              "        element.innerHTML = '';\n",
              "        dataTable['output_type'] = 'display_data';\n",
              "        await google.colab.output.renderOutput(dataTable, element);\n",
              "        const docLink = document.createElement('div');\n",
              "        docLink.innerHTML = docLinkHtml;\n",
              "        element.appendChild(docLink);\n",
              "      }\n",
              "    </script>\n",
              "  </div>\n",
              "\n",
              "\n",
              "<div id=\"df-83659014-28f8-471b-9392-3d5f95084890\">\n",
              "  <button class=\"colab-df-quickchart\" onclick=\"quickchart('df-83659014-28f8-471b-9392-3d5f95084890')\"\n",
              "            title=\"Suggest charts\"\n",
              "            style=\"display:none;\">\n",
              "\n",
              "<svg xmlns=\"http://www.w3.org/2000/svg\" height=\"24px\"viewBox=\"0 0 24 24\"\n",
              "     width=\"24px\">\n",
              "    <g>\n",
              "        <path d=\"M19 3H5c-1.1 0-2 .9-2 2v14c0 1.1.9 2 2 2h14c1.1 0 2-.9 2-2V5c0-1.1-.9-2-2-2zM9 17H7v-7h2v7zm4 0h-2V7h2v10zm4 0h-2v-4h2v4z\"/>\n",
              "    </g>\n",
              "</svg>\n",
              "  </button>\n",
              "\n",
              "<style>\n",
              "  .colab-df-quickchart {\n",
              "      --bg-color: #E8F0FE;\n",
              "      --fill-color: #1967D2;\n",
              "      --hover-bg-color: #E2EBFA;\n",
              "      --hover-fill-color: #174EA6;\n",
              "      --disabled-fill-color: #AAA;\n",
              "      --disabled-bg-color: #DDD;\n",
              "  }\n",
              "\n",
              "  [theme=dark] .colab-df-quickchart {\n",
              "      --bg-color: #3B4455;\n",
              "      --fill-color: #D2E3FC;\n",
              "      --hover-bg-color: #434B5C;\n",
              "      --hover-fill-color: #FFFFFF;\n",
              "      --disabled-bg-color: #3B4455;\n",
              "      --disabled-fill-color: #666;\n",
              "  }\n",
              "\n",
              "  .colab-df-quickchart {\n",
              "    background-color: var(--bg-color);\n",
              "    border: none;\n",
              "    border-radius: 50%;\n",
              "    cursor: pointer;\n",
              "    display: none;\n",
              "    fill: var(--fill-color);\n",
              "    height: 32px;\n",
              "    padding: 0;\n",
              "    width: 32px;\n",
              "  }\n",
              "\n",
              "  .colab-df-quickchart:hover {\n",
              "    background-color: var(--hover-bg-color);\n",
              "    box-shadow: 0 1px 2px rgba(60, 64, 67, 0.3), 0 1px 3px 1px rgba(60, 64, 67, 0.15);\n",
              "    fill: var(--button-hover-fill-color);\n",
              "  }\n",
              "\n",
              "  .colab-df-quickchart-complete:disabled,\n",
              "  .colab-df-quickchart-complete:disabled:hover {\n",
              "    background-color: var(--disabled-bg-color);\n",
              "    fill: var(--disabled-fill-color);\n",
              "    box-shadow: none;\n",
              "  }\n",
              "\n",
              "  .colab-df-spinner {\n",
              "    border: 2px solid var(--fill-color);\n",
              "    border-color: transparent;\n",
              "    border-bottom-color: var(--fill-color);\n",
              "    animation:\n",
              "      spin 1s steps(1) infinite;\n",
              "  }\n",
              "\n",
              "  @keyframes spin {\n",
              "    0% {\n",
              "      border-color: transparent;\n",
              "      border-bottom-color: var(--fill-color);\n",
              "      border-left-color: var(--fill-color);\n",
              "    }\n",
              "    20% {\n",
              "      border-color: transparent;\n",
              "      border-left-color: var(--fill-color);\n",
              "      border-top-color: var(--fill-color);\n",
              "    }\n",
              "    30% {\n",
              "      border-color: transparent;\n",
              "      border-left-color: var(--fill-color);\n",
              "      border-top-color: var(--fill-color);\n",
              "      border-right-color: var(--fill-color);\n",
              "    }\n",
              "    40% {\n",
              "      border-color: transparent;\n",
              "      border-right-color: var(--fill-color);\n",
              "      border-top-color: var(--fill-color);\n",
              "    }\n",
              "    60% {\n",
              "      border-color: transparent;\n",
              "      border-right-color: var(--fill-color);\n",
              "    }\n",
              "    80% {\n",
              "      border-color: transparent;\n",
              "      border-right-color: var(--fill-color);\n",
              "      border-bottom-color: var(--fill-color);\n",
              "    }\n",
              "    90% {\n",
              "      border-color: transparent;\n",
              "      border-bottom-color: var(--fill-color);\n",
              "    }\n",
              "  }\n",
              "</style>\n",
              "\n",
              "  <script>\n",
              "    async function quickchart(key) {\n",
              "      const quickchartButtonEl =\n",
              "        document.querySelector('#' + key + ' button');\n",
              "      quickchartButtonEl.disabled = true;  // To prevent multiple clicks.\n",
              "      quickchartButtonEl.classList.add('colab-df-spinner');\n",
              "      try {\n",
              "        const charts = await google.colab.kernel.invokeFunction(\n",
              "            'suggestCharts', [key], {});\n",
              "      } catch (error) {\n",
              "        console.error('Error during call to suggestCharts:', error);\n",
              "      }\n",
              "      quickchartButtonEl.classList.remove('colab-df-spinner');\n",
              "      quickchartButtonEl.classList.add('colab-df-quickchart-complete');\n",
              "    }\n",
              "    (() => {\n",
              "      let quickchartButtonEl =\n",
              "        document.querySelector('#df-83659014-28f8-471b-9392-3d5f95084890 button');\n",
              "      quickchartButtonEl.style.display =\n",
              "        google.colab.kernel.accessAllowed ? 'block' : 'none';\n",
              "    })();\n",
              "  </script>\n",
              "</div>\n",
              "\n",
              "    </div>\n",
              "  </div>\n"
            ]
          },
          "metadata": {},
          "execution_count": 61
        }
      ],
      "source": [
        "df.sample(5)"
      ]
    },
    {
      "cell_type": "code",
      "execution_count": null,
      "metadata": {
        "id": "LAXMkrCE4gqo"
      },
      "outputs": [],
      "source": [
        "df[\"Working Date\"] = pd.to_datetime(df[\"Working Date\"])\n"
      ]
    },
    {
      "cell_type": "code",
      "execution_count": null,
      "metadata": {
        "colab": {
          "base_uri": "https://localhost:8080/",
          "height": 135
        },
        "id": "fu6_EagB5JZz",
        "outputId": "352b4046-e888-416e-9db2-cacec42a52fa"
      },
      "outputs": [
        {
          "output_type": "execute_result",
          "data": {
            "text/plain": [
              "          status  price  qty_ordered  grand_total increment_id  \\\n",
              "122172  complete  225.0          1.0       1025.0    100245637   \n",
              "\n",
              "               category  discount_amount payment_method Working Date  \\\n",
              "122172  Women's Fashion              0.0            cod   2016-12-04   \n",
              "\n",
              "       BI Status    MV   Year  Month Customer Since  discount_percentage  day  \n",
              "122172       Net   225   2016     12     2016-12-01                  0.0    4  "
            ],
            "text/html": [
              "\n",
              "  <div id=\"df-8fcfcb5f-02bd-4542-90aa-471189e8834d\" class=\"colab-df-container\">\n",
              "    <div>\n",
              "<style scoped>\n",
              "    .dataframe tbody tr th:only-of-type {\n",
              "        vertical-align: middle;\n",
              "    }\n",
              "\n",
              "    .dataframe tbody tr th {\n",
              "        vertical-align: top;\n",
              "    }\n",
              "\n",
              "    .dataframe thead th {\n",
              "        text-align: right;\n",
              "    }\n",
              "</style>\n",
              "<table border=\"1\" class=\"dataframe\">\n",
              "  <thead>\n",
              "    <tr style=\"text-align: right;\">\n",
              "      <th></th>\n",
              "      <th>status</th>\n",
              "      <th>price</th>\n",
              "      <th>qty_ordered</th>\n",
              "      <th>grand_total</th>\n",
              "      <th>increment_id</th>\n",
              "      <th>category</th>\n",
              "      <th>discount_amount</th>\n",
              "      <th>payment_method</th>\n",
              "      <th>Working Date</th>\n",
              "      <th>BI Status</th>\n",
              "      <th>MV</th>\n",
              "      <th>Year</th>\n",
              "      <th>Month</th>\n",
              "      <th>Customer Since</th>\n",
              "      <th>discount_percentage</th>\n",
              "      <th>day</th>\n",
              "    </tr>\n",
              "  </thead>\n",
              "  <tbody>\n",
              "    <tr>\n",
              "      <th>122172</th>\n",
              "      <td>complete</td>\n",
              "      <td>225.0</td>\n",
              "      <td>1.0</td>\n",
              "      <td>1025.0</td>\n",
              "      <td>100245637</td>\n",
              "      <td>Women's Fashion</td>\n",
              "      <td>0.0</td>\n",
              "      <td>cod</td>\n",
              "      <td>2016-12-04</td>\n",
              "      <td>Net</td>\n",
              "      <td>225</td>\n",
              "      <td>2016</td>\n",
              "      <td>12</td>\n",
              "      <td>2016-12-01</td>\n",
              "      <td>0.0</td>\n",
              "      <td>4</td>\n",
              "    </tr>\n",
              "  </tbody>\n",
              "</table>\n",
              "</div>\n",
              "    <div class=\"colab-df-buttons\">\n",
              "\n",
              "  <div class=\"colab-df-container\">\n",
              "    <button class=\"colab-df-convert\" onclick=\"convertToInteractive('df-8fcfcb5f-02bd-4542-90aa-471189e8834d')\"\n",
              "            title=\"Convert this dataframe to an interactive table.\"\n",
              "            style=\"display:none;\">\n",
              "\n",
              "  <svg xmlns=\"http://www.w3.org/2000/svg\" height=\"24px\" viewBox=\"0 -960 960 960\">\n",
              "    <path d=\"M120-120v-720h720v720H120Zm60-500h600v-160H180v160Zm220 220h160v-160H400v160Zm0 220h160v-160H400v160ZM180-400h160v-160H180v160Zm440 0h160v-160H620v160ZM180-180h160v-160H180v160Zm440 0h160v-160H620v160Z\"/>\n",
              "  </svg>\n",
              "    </button>\n",
              "\n",
              "  <style>\n",
              "    .colab-df-container {\n",
              "      display:flex;\n",
              "      gap: 12px;\n",
              "    }\n",
              "\n",
              "    .colab-df-convert {\n",
              "      background-color: #E8F0FE;\n",
              "      border: none;\n",
              "      border-radius: 50%;\n",
              "      cursor: pointer;\n",
              "      display: none;\n",
              "      fill: #1967D2;\n",
              "      height: 32px;\n",
              "      padding: 0 0 0 0;\n",
              "      width: 32px;\n",
              "    }\n",
              "\n",
              "    .colab-df-convert:hover {\n",
              "      background-color: #E2EBFA;\n",
              "      box-shadow: 0px 1px 2px rgba(60, 64, 67, 0.3), 0px 1px 3px 1px rgba(60, 64, 67, 0.15);\n",
              "      fill: #174EA6;\n",
              "    }\n",
              "\n",
              "    .colab-df-buttons div {\n",
              "      margin-bottom: 4px;\n",
              "    }\n",
              "\n",
              "    [theme=dark] .colab-df-convert {\n",
              "      background-color: #3B4455;\n",
              "      fill: #D2E3FC;\n",
              "    }\n",
              "\n",
              "    [theme=dark] .colab-df-convert:hover {\n",
              "      background-color: #434B5C;\n",
              "      box-shadow: 0px 1px 3px 1px rgba(0, 0, 0, 0.15);\n",
              "      filter: drop-shadow(0px 1px 2px rgba(0, 0, 0, 0.3));\n",
              "      fill: #FFFFFF;\n",
              "    }\n",
              "  </style>\n",
              "\n",
              "    <script>\n",
              "      const buttonEl =\n",
              "        document.querySelector('#df-8fcfcb5f-02bd-4542-90aa-471189e8834d button.colab-df-convert');\n",
              "      buttonEl.style.display =\n",
              "        google.colab.kernel.accessAllowed ? 'block' : 'none';\n",
              "\n",
              "      async function convertToInteractive(key) {\n",
              "        const element = document.querySelector('#df-8fcfcb5f-02bd-4542-90aa-471189e8834d');\n",
              "        const dataTable =\n",
              "          await google.colab.kernel.invokeFunction('convertToInteractive',\n",
              "                                                    [key], {});\n",
              "        if (!dataTable) return;\n",
              "\n",
              "        const docLinkHtml = 'Like what you see? Visit the ' +\n",
              "          '<a target=\"_blank\" href=https://colab.research.google.com/notebooks/data_table.ipynb>data table notebook</a>'\n",
              "          + ' to learn more about interactive tables.';\n",
              "        element.innerHTML = '';\n",
              "        dataTable['output_type'] = 'display_data';\n",
              "        await google.colab.output.renderOutput(dataTable, element);\n",
              "        const docLink = document.createElement('div');\n",
              "        docLink.innerHTML = docLinkHtml;\n",
              "        element.appendChild(docLink);\n",
              "      }\n",
              "    </script>\n",
              "  </div>\n",
              "\n",
              "\n",
              "    </div>\n",
              "  </div>\n"
            ]
          },
          "metadata": {},
          "execution_count": 63
        }
      ],
      "source": [
        "df.sample()"
      ]
    },
    {
      "cell_type": "code",
      "execution_count": null,
      "metadata": {
        "id": "JL4ev-zstQIv"
      },
      "outputs": [],
      "source": [
        "# df['increment_id'] = df['increment_id'].astype(int)"
      ]
    },
    {
      "cell_type": "code",
      "execution_count": null,
      "metadata": {
        "id": "jt94_Xfw9N_a"
      },
      "outputs": [],
      "source": [
        "numeric_columns = df.select_dtypes(include='number')\n",
        "str_columns = df.select_dtypes(include='object')"
      ]
    },
    {
      "cell_type": "code",
      "execution_count": null,
      "metadata": {
        "colab": {
          "base_uri": "https://localhost:8080/",
          "height": 206
        },
        "id": "UVBb8TsN_KB3",
        "outputId": "450604f8-9d52-4ab3-be65-89aee7b1e017"
      },
      "outputs": [
        {
          "output_type": "execute_result",
          "data": {
            "text/plain": [
              "    price  qty_ordered  grand_total  discount_amount  Year  Month  \\\n",
              "0  1950.0          1.0       1950.0              0.0  2016      7   \n",
              "1   240.0          1.0        240.0              0.0  2016      7   \n",
              "2  2450.0          1.0       2450.0              0.0  2016      7   \n",
              "3   360.0          1.0         60.0            300.0  2016      7   \n",
              "4   555.0          2.0       1110.0              0.0  2016      7   \n",
              "\n",
              "   discount_percentage  day  \n",
              "0                  0.0    1  \n",
              "1                  0.0    1  \n",
              "2                  0.0    1  \n",
              "3                500.0    1  \n",
              "4                  0.0    1  "
            ],
            "text/html": [
              "\n",
              "  <div id=\"df-3e960fec-9a9d-4302-9244-fd70bd5f4f1d\" class=\"colab-df-container\">\n",
              "    <div>\n",
              "<style scoped>\n",
              "    .dataframe tbody tr th:only-of-type {\n",
              "        vertical-align: middle;\n",
              "    }\n",
              "\n",
              "    .dataframe tbody tr th {\n",
              "        vertical-align: top;\n",
              "    }\n",
              "\n",
              "    .dataframe thead th {\n",
              "        text-align: right;\n",
              "    }\n",
              "</style>\n",
              "<table border=\"1\" class=\"dataframe\">\n",
              "  <thead>\n",
              "    <tr style=\"text-align: right;\">\n",
              "      <th></th>\n",
              "      <th>price</th>\n",
              "      <th>qty_ordered</th>\n",
              "      <th>grand_total</th>\n",
              "      <th>discount_amount</th>\n",
              "      <th>Year</th>\n",
              "      <th>Month</th>\n",
              "      <th>discount_percentage</th>\n",
              "      <th>day</th>\n",
              "    </tr>\n",
              "  </thead>\n",
              "  <tbody>\n",
              "    <tr>\n",
              "      <th>0</th>\n",
              "      <td>1950.0</td>\n",
              "      <td>1.0</td>\n",
              "      <td>1950.0</td>\n",
              "      <td>0.0</td>\n",
              "      <td>2016</td>\n",
              "      <td>7</td>\n",
              "      <td>0.0</td>\n",
              "      <td>1</td>\n",
              "    </tr>\n",
              "    <tr>\n",
              "      <th>1</th>\n",
              "      <td>240.0</td>\n",
              "      <td>1.0</td>\n",
              "      <td>240.0</td>\n",
              "      <td>0.0</td>\n",
              "      <td>2016</td>\n",
              "      <td>7</td>\n",
              "      <td>0.0</td>\n",
              "      <td>1</td>\n",
              "    </tr>\n",
              "    <tr>\n",
              "      <th>2</th>\n",
              "      <td>2450.0</td>\n",
              "      <td>1.0</td>\n",
              "      <td>2450.0</td>\n",
              "      <td>0.0</td>\n",
              "      <td>2016</td>\n",
              "      <td>7</td>\n",
              "      <td>0.0</td>\n",
              "      <td>1</td>\n",
              "    </tr>\n",
              "    <tr>\n",
              "      <th>3</th>\n",
              "      <td>360.0</td>\n",
              "      <td>1.0</td>\n",
              "      <td>60.0</td>\n",
              "      <td>300.0</td>\n",
              "      <td>2016</td>\n",
              "      <td>7</td>\n",
              "      <td>500.0</td>\n",
              "      <td>1</td>\n",
              "    </tr>\n",
              "    <tr>\n",
              "      <th>4</th>\n",
              "      <td>555.0</td>\n",
              "      <td>2.0</td>\n",
              "      <td>1110.0</td>\n",
              "      <td>0.0</td>\n",
              "      <td>2016</td>\n",
              "      <td>7</td>\n",
              "      <td>0.0</td>\n",
              "      <td>1</td>\n",
              "    </tr>\n",
              "  </tbody>\n",
              "</table>\n",
              "</div>\n",
              "    <div class=\"colab-df-buttons\">\n",
              "\n",
              "  <div class=\"colab-df-container\">\n",
              "    <button class=\"colab-df-convert\" onclick=\"convertToInteractive('df-3e960fec-9a9d-4302-9244-fd70bd5f4f1d')\"\n",
              "            title=\"Convert this dataframe to an interactive table.\"\n",
              "            style=\"display:none;\">\n",
              "\n",
              "  <svg xmlns=\"http://www.w3.org/2000/svg\" height=\"24px\" viewBox=\"0 -960 960 960\">\n",
              "    <path d=\"M120-120v-720h720v720H120Zm60-500h600v-160H180v160Zm220 220h160v-160H400v160Zm0 220h160v-160H400v160ZM180-400h160v-160H180v160Zm440 0h160v-160H620v160ZM180-180h160v-160H180v160Zm440 0h160v-160H620v160Z\"/>\n",
              "  </svg>\n",
              "    </button>\n",
              "\n",
              "  <style>\n",
              "    .colab-df-container {\n",
              "      display:flex;\n",
              "      gap: 12px;\n",
              "    }\n",
              "\n",
              "    .colab-df-convert {\n",
              "      background-color: #E8F0FE;\n",
              "      border: none;\n",
              "      border-radius: 50%;\n",
              "      cursor: pointer;\n",
              "      display: none;\n",
              "      fill: #1967D2;\n",
              "      height: 32px;\n",
              "      padding: 0 0 0 0;\n",
              "      width: 32px;\n",
              "    }\n",
              "\n",
              "    .colab-df-convert:hover {\n",
              "      background-color: #E2EBFA;\n",
              "      box-shadow: 0px 1px 2px rgba(60, 64, 67, 0.3), 0px 1px 3px 1px rgba(60, 64, 67, 0.15);\n",
              "      fill: #174EA6;\n",
              "    }\n",
              "\n",
              "    .colab-df-buttons div {\n",
              "      margin-bottom: 4px;\n",
              "    }\n",
              "\n",
              "    [theme=dark] .colab-df-convert {\n",
              "      background-color: #3B4455;\n",
              "      fill: #D2E3FC;\n",
              "    }\n",
              "\n",
              "    [theme=dark] .colab-df-convert:hover {\n",
              "      background-color: #434B5C;\n",
              "      box-shadow: 0px 1px 3px 1px rgba(0, 0, 0, 0.15);\n",
              "      filter: drop-shadow(0px 1px 2px rgba(0, 0, 0, 0.3));\n",
              "      fill: #FFFFFF;\n",
              "    }\n",
              "  </style>\n",
              "\n",
              "    <script>\n",
              "      const buttonEl =\n",
              "        document.querySelector('#df-3e960fec-9a9d-4302-9244-fd70bd5f4f1d button.colab-df-convert');\n",
              "      buttonEl.style.display =\n",
              "        google.colab.kernel.accessAllowed ? 'block' : 'none';\n",
              "\n",
              "      async function convertToInteractive(key) {\n",
              "        const element = document.querySelector('#df-3e960fec-9a9d-4302-9244-fd70bd5f4f1d');\n",
              "        const dataTable =\n",
              "          await google.colab.kernel.invokeFunction('convertToInteractive',\n",
              "                                                    [key], {});\n",
              "        if (!dataTable) return;\n",
              "\n",
              "        const docLinkHtml = 'Like what you see? Visit the ' +\n",
              "          '<a target=\"_blank\" href=https://colab.research.google.com/notebooks/data_table.ipynb>data table notebook</a>'\n",
              "          + ' to learn more about interactive tables.';\n",
              "        element.innerHTML = '';\n",
              "        dataTable['output_type'] = 'display_data';\n",
              "        await google.colab.output.renderOutput(dataTable, element);\n",
              "        const docLink = document.createElement('div');\n",
              "        docLink.innerHTML = docLinkHtml;\n",
              "        element.appendChild(docLink);\n",
              "      }\n",
              "    </script>\n",
              "  </div>\n",
              "\n",
              "\n",
              "<div id=\"df-08f31563-70f0-4cf9-a056-a768e2e1e186\">\n",
              "  <button class=\"colab-df-quickchart\" onclick=\"quickchart('df-08f31563-70f0-4cf9-a056-a768e2e1e186')\"\n",
              "            title=\"Suggest charts\"\n",
              "            style=\"display:none;\">\n",
              "\n",
              "<svg xmlns=\"http://www.w3.org/2000/svg\" height=\"24px\"viewBox=\"0 0 24 24\"\n",
              "     width=\"24px\">\n",
              "    <g>\n",
              "        <path d=\"M19 3H5c-1.1 0-2 .9-2 2v14c0 1.1.9 2 2 2h14c1.1 0 2-.9 2-2V5c0-1.1-.9-2-2-2zM9 17H7v-7h2v7zm4 0h-2V7h2v10zm4 0h-2v-4h2v4z\"/>\n",
              "    </g>\n",
              "</svg>\n",
              "  </button>\n",
              "\n",
              "<style>\n",
              "  .colab-df-quickchart {\n",
              "      --bg-color: #E8F0FE;\n",
              "      --fill-color: #1967D2;\n",
              "      --hover-bg-color: #E2EBFA;\n",
              "      --hover-fill-color: #174EA6;\n",
              "      --disabled-fill-color: #AAA;\n",
              "      --disabled-bg-color: #DDD;\n",
              "  }\n",
              "\n",
              "  [theme=dark] .colab-df-quickchart {\n",
              "      --bg-color: #3B4455;\n",
              "      --fill-color: #D2E3FC;\n",
              "      --hover-bg-color: #434B5C;\n",
              "      --hover-fill-color: #FFFFFF;\n",
              "      --disabled-bg-color: #3B4455;\n",
              "      --disabled-fill-color: #666;\n",
              "  }\n",
              "\n",
              "  .colab-df-quickchart {\n",
              "    background-color: var(--bg-color);\n",
              "    border: none;\n",
              "    border-radius: 50%;\n",
              "    cursor: pointer;\n",
              "    display: none;\n",
              "    fill: var(--fill-color);\n",
              "    height: 32px;\n",
              "    padding: 0;\n",
              "    width: 32px;\n",
              "  }\n",
              "\n",
              "  .colab-df-quickchart:hover {\n",
              "    background-color: var(--hover-bg-color);\n",
              "    box-shadow: 0 1px 2px rgba(60, 64, 67, 0.3), 0 1px 3px 1px rgba(60, 64, 67, 0.15);\n",
              "    fill: var(--button-hover-fill-color);\n",
              "  }\n",
              "\n",
              "  .colab-df-quickchart-complete:disabled,\n",
              "  .colab-df-quickchart-complete:disabled:hover {\n",
              "    background-color: var(--disabled-bg-color);\n",
              "    fill: var(--disabled-fill-color);\n",
              "    box-shadow: none;\n",
              "  }\n",
              "\n",
              "  .colab-df-spinner {\n",
              "    border: 2px solid var(--fill-color);\n",
              "    border-color: transparent;\n",
              "    border-bottom-color: var(--fill-color);\n",
              "    animation:\n",
              "      spin 1s steps(1) infinite;\n",
              "  }\n",
              "\n",
              "  @keyframes spin {\n",
              "    0% {\n",
              "      border-color: transparent;\n",
              "      border-bottom-color: var(--fill-color);\n",
              "      border-left-color: var(--fill-color);\n",
              "    }\n",
              "    20% {\n",
              "      border-color: transparent;\n",
              "      border-left-color: var(--fill-color);\n",
              "      border-top-color: var(--fill-color);\n",
              "    }\n",
              "    30% {\n",
              "      border-color: transparent;\n",
              "      border-left-color: var(--fill-color);\n",
              "      border-top-color: var(--fill-color);\n",
              "      border-right-color: var(--fill-color);\n",
              "    }\n",
              "    40% {\n",
              "      border-color: transparent;\n",
              "      border-right-color: var(--fill-color);\n",
              "      border-top-color: var(--fill-color);\n",
              "    }\n",
              "    60% {\n",
              "      border-color: transparent;\n",
              "      border-right-color: var(--fill-color);\n",
              "    }\n",
              "    80% {\n",
              "      border-color: transparent;\n",
              "      border-right-color: var(--fill-color);\n",
              "      border-bottom-color: var(--fill-color);\n",
              "    }\n",
              "    90% {\n",
              "      border-color: transparent;\n",
              "      border-bottom-color: var(--fill-color);\n",
              "    }\n",
              "  }\n",
              "</style>\n",
              "\n",
              "  <script>\n",
              "    async function quickchart(key) {\n",
              "      const quickchartButtonEl =\n",
              "        document.querySelector('#' + key + ' button');\n",
              "      quickchartButtonEl.disabled = true;  // To prevent multiple clicks.\n",
              "      quickchartButtonEl.classList.add('colab-df-spinner');\n",
              "      try {\n",
              "        const charts = await google.colab.kernel.invokeFunction(\n",
              "            'suggestCharts', [key], {});\n",
              "      } catch (error) {\n",
              "        console.error('Error during call to suggestCharts:', error);\n",
              "      }\n",
              "      quickchartButtonEl.classList.remove('colab-df-spinner');\n",
              "      quickchartButtonEl.classList.add('colab-df-quickchart-complete');\n",
              "    }\n",
              "    (() => {\n",
              "      let quickchartButtonEl =\n",
              "        document.querySelector('#df-08f31563-70f0-4cf9-a056-a768e2e1e186 button');\n",
              "      quickchartButtonEl.style.display =\n",
              "        google.colab.kernel.accessAllowed ? 'block' : 'none';\n",
              "    })();\n",
              "  </script>\n",
              "</div>\n",
              "\n",
              "    </div>\n",
              "  </div>\n"
            ]
          },
          "metadata": {},
          "execution_count": 66
        }
      ],
      "source": [
        "numeric_columns.head()"
      ]
    },
    {
      "cell_type": "code",
      "execution_count": null,
      "metadata": {
        "id": "zw2iKv0hF7WH"
      },
      "outputs": [],
      "source": [
        "numeric_corr = numeric_columns.corr()"
      ]
    },
    {
      "cell_type": "code",
      "execution_count": null,
      "metadata": {
        "colab": {
          "base_uri": "https://localhost:8080/",
          "height": 584
        },
        "id": "rrx5htWbGC2H",
        "outputId": "28264abd-f12b-423b-9db1-0df5e641993b"
      },
      "outputs": [
        {
          "output_type": "execute_result",
          "data": {
            "text/plain": [
              "<Axes: >"
            ]
          },
          "metadata": {},
          "execution_count": 68
        },
        {
          "output_type": "display_data",
          "data": {
            "text/plain": [
              "<Figure size 640x480 with 2 Axes>"
            ],
            "image/png": "[encoded data removed]"
          },
          "metadata": {}
        }
      ],
      "source": [
        "sns.heatmap(numeric_corr)"
      ]
    },
    {
      "cell_type": "code",
      "execution_count": null,
      "metadata": {
        "colab": {
          "base_uri": "https://localhost:8080/",
          "height": 206
        },
        "id": "27_Vt-TsE6sv",
        "outputId": "7ad9b130-16c1-4791-eab0-ddf0de0bebf6"
      },
      "outputs": [
        {
          "output_type": "execute_result",
          "data": {
            "text/plain": [
              "           status increment_id           category payment_method BI Status  \\\n",
              "0        complete    100147443    Women's Fashion            cod     #REF!   \n",
              "1        canceled    100147444  Beauty & Grooming            cod     Gross   \n",
              "2        canceled    100147445    Women's Fashion            cod     Gross   \n",
              "3        complete    100147446  Beauty & Grooming            cod       Net   \n",
              "4  order_refunded    100147447            Soghaat            cod     Valid   \n",
              "\n",
              "       MV   \n",
              "0   1,950   \n",
              "1     240   \n",
              "2   2,450   \n",
              "3     360   \n",
              "4   1,110   "
            ],
            "text/html": [
              "\n",
              "  <div id=\"df-4bfe27ab-8a5e-464f-8f2e-6e31ce58da46\" class=\"colab-df-container\">\n",
              "    <div>\n",
              "<style scoped>\n",
              "    .dataframe tbody tr th:only-of-type {\n",
              "        vertical-align: middle;\n",
              "    }\n",
              "\n",
              "    .dataframe tbody tr th {\n",
              "        vertical-align: top;\n",
              "    }\n",
              "\n",
              "    .dataframe thead th {\n",
              "        text-align: right;\n",
              "    }\n",
              "</style>\n",
              "<table border=\"1\" class=\"dataframe\">\n",
              "  <thead>\n",
              "    <tr style=\"text-align: right;\">\n",
              "      <th></th>\n",
              "      <th>status</th>\n",
              "      <th>increment_id</th>\n",
              "      <th>category</th>\n",
              "      <th>payment_method</th>\n",
              "      <th>BI Status</th>\n",
              "      <th>MV</th>\n",
              "    </tr>\n",
              "  </thead>\n",
              "  <tbody>\n",
              "    <tr>\n",
              "      <th>0</th>\n",
              "      <td>complete</td>\n",
              "      <td>100147443</td>\n",
              "      <td>Women's Fashion</td>\n",
              "      <td>cod</td>\n",
              "      <td>#REF!</td>\n",
              "      <td>1,950</td>\n",
              "    </tr>\n",
              "    <tr>\n",
              "      <th>1</th>\n",
              "      <td>canceled</td>\n",
              "      <td>100147444</td>\n",
              "      <td>Beauty &amp; Grooming</td>\n",
              "      <td>cod</td>\n",
              "      <td>Gross</td>\n",
              "      <td>240</td>\n",
              "    </tr>\n",
              "    <tr>\n",
              "      <th>2</th>\n",
              "      <td>canceled</td>\n",
              "      <td>100147445</td>\n",
              "      <td>Women's Fashion</td>\n",
              "      <td>cod</td>\n",
              "      <td>Gross</td>\n",
              "      <td>2,450</td>\n",
              "    </tr>\n",
              "    <tr>\n",
              "      <th>3</th>\n",
              "      <td>complete</td>\n",
              "      <td>100147446</td>\n",
              "      <td>Beauty &amp; Grooming</td>\n",
              "      <td>cod</td>\n",
              "      <td>Net</td>\n",
              "      <td>360</td>\n",
              "    </tr>\n",
              "    <tr>\n",
              "      <th>4</th>\n",
              "      <td>order_refunded</td>\n",
              "      <td>100147447</td>\n",
              "      <td>Soghaat</td>\n",
              "      <td>cod</td>\n",
              "      <td>Valid</td>\n",
              "      <td>1,110</td>\n",
              "    </tr>\n",
              "  </tbody>\n",
              "</table>\n",
              "</div>\n",
              "    <div class=\"colab-df-buttons\">\n",
              "\n",
              "  <div class=\"colab-df-container\">\n",
              "    <button class=\"colab-df-convert\" onclick=\"convertToInteractive('df-4bfe27ab-8a5e-464f-8f2e-6e31ce58da46')\"\n",
              "            title=\"Convert this dataframe to an interactive table.\"\n",
              "            style=\"display:none;\">\n",
              "\n",
              "  <svg xmlns=\"http://www.w3.org/2000/svg\" height=\"24px\" viewBox=\"0 -960 960 960\">\n",
              "    <path d=\"M120-120v-720h720v720H120Zm60-500h600v-160H180v160Zm220 220h160v-160H400v160Zm0 220h160v-160H400v160ZM180-400h160v-160H180v160Zm440 0h160v-160H620v160ZM180-180h160v-160H180v160Zm440 0h160v-160H620v160Z\"/>\n",
              "  </svg>\n",
              "    </button>\n",
              "\n",
              "  <style>\n",
              "    .colab-df-container {\n",
              "      display:flex;\n",
              "      gap: 12px;\n",
              "    }\n",
              "\n",
              "    .colab-df-convert {\n",
              "      background-color: #E8F0FE;\n",
              "      border: none;\n",
              "      border-radius: 50%;\n",
              "      cursor: pointer;\n",
              "      display: none;\n",
              "      fill: #1967D2;\n",
              "      height: 32px;\n",
              "      padding: 0 0 0 0;\n",
              "      width: 32px;\n",
              "    }\n",
              "\n",
              "    .colab-df-convert:hover {\n",
              "      background-color: #E2EBFA;\n",
              "      box-shadow: 0px 1px 2px rgba(60, 64, 67, 0.3), 0px 1px 3px 1px rgba(60, 64, 67, 0.15);\n",
              "      fill: #174EA6;\n",
              "    }\n",
              "\n",
              "    .colab-df-buttons div {\n",
              "      margin-bottom: 4px;\n",
              "    }\n",
              "\n",
              "    [theme=dark] .colab-df-convert {\n",
              "      background-color: #3B4455;\n",
              "      fill: #D2E3FC;\n",
              "    }\n",
              "\n",
              "    [theme=dark] .colab-df-convert:hover {\n",
              "      background-color: #434B5C;\n",
              "      box-shadow: 0px 1px 3px 1px rgba(0, 0, 0, 0.15);\n",
              "      filter: drop-shadow(0px 1px 2px rgba(0, 0, 0, 0.3));\n",
              "      fill: #FFFFFF;\n",
              "    }\n",
              "  </style>\n",
              "\n",
              "    <script>\n",
              "      const buttonEl =\n",
              "        document.querySelector('#df-4bfe27ab-8a5e-464f-8f2e-6e31ce58da46 button.colab-df-convert');\n",
              "      buttonEl.style.display =\n",
              "        google.colab.kernel.accessAllowed ? 'block' : 'none';\n",
              "\n",
              "      async function convertToInteractive(key) {\n",
              "        const element = document.querySelector('#df-4bfe27ab-8a5e-464f-8f2e-6e31ce58da46');\n",
              "        const dataTable =\n",
              "          await google.colab.kernel.invokeFunction('convertToInteractive',\n",
              "                                                    [key], {});\n",
              "        if (!dataTable) return;\n",
              "\n",
              "        const docLinkHtml = 'Like what you see? Visit the ' +\n",
              "          '<a target=\"_blank\" href=https://colab.research.google.com/notebooks/data_table.ipynb>data table notebook</a>'\n",
              "          + ' to learn more about interactive tables.';\n",
              "        element.innerHTML = '';\n",
              "        dataTable['output_type'] = 'display_data';\n",
              "        await google.colab.output.renderOutput(dataTable, element);\n",
              "        const docLink = document.createElement('div');\n",
              "        docLink.innerHTML = docLinkHtml;\n",
              "        element.appendChild(docLink);\n",
              "      }\n",
              "    </script>\n",
              "  </div>\n",
              "\n",
              "\n",
              "<div id=\"df-e203da05-dd75-4530-83d0-8a5d54f5c5e5\">\n",
              "  <button class=\"colab-df-quickchart\" onclick=\"quickchart('df-e203da05-dd75-4530-83d0-8a5d54f5c5e5')\"\n",
              "            title=\"Suggest charts\"\n",
              "            style=\"display:none;\">\n",
              "\n",
              "<svg xmlns=\"http://www.w3.org/2000/svg\" height=\"24px\"viewBox=\"0 0 24 24\"\n",
              "     width=\"24px\">\n",
              "    <g>\n",
              "        <path d=\"M19 3H5c-1.1 0-2 .9-2 2v14c0 1.1.9 2 2 2h14c1.1 0 2-.9 2-2V5c0-1.1-.9-2-2-2zM9 17H7v-7h2v7zm4 0h-2V7h2v10zm4 0h-2v-4h2v4z\"/>\n",
              "    </g>\n",
              "</svg>\n",
              "  </button>\n",
              "\n",
              "<style>\n",
              "  .colab-df-quickchart {\n",
              "      --bg-color: #E8F0FE;\n",
              "      --fill-color: #1967D2;\n",
              "      --hover-bg-color: #E2EBFA;\n",
              "      --hover-fill-color: #174EA6;\n",
              "      --disabled-fill-color: #AAA;\n",
              "      --disabled-bg-color: #DDD;\n",
              "  }\n",
              "\n",
              "  [theme=dark] .colab-df-quickchart {\n",
              "      --bg-color: #3B4455;\n",
              "      --fill-color: #D2E3FC;\n",
              "      --hover-bg-color: #434B5C;\n",
              "      --hover-fill-color: #FFFFFF;\n",
              "      --disabled-bg-color: #3B4455;\n",
              "      --disabled-fill-color: #666;\n",
              "  }\n",
              "\n",
              "  .colab-df-quickchart {\n",
              "    background-color: var(--bg-color);\n",
              "    border: none;\n",
              "    border-radius: 50%;\n",
              "    cursor: pointer;\n",
              "    display: none;\n",
              "    fill: var(--fill-color);\n",
              "    height: 32px;\n",
              "    padding: 0;\n",
              "    width: 32px;\n",
              "  }\n",
              "\n",
              "  .colab-df-quickchart:hover {\n",
              "    background-color: var(--hover-bg-color);\n",
              "    box-shadow: 0 1px 2px rgba(60, 64, 67, 0.3), 0 1px 3px 1px rgba(60, 64, 67, 0.15);\n",
              "    fill: var(--button-hover-fill-color);\n",
              "  }\n",
              "\n",
              "  .colab-df-quickchart-complete:disabled,\n",
              "  .colab-df-quickchart-complete:disabled:hover {\n",
              "    background-color: var(--disabled-bg-color);\n",
              "    fill: var(--disabled-fill-color);\n",
              "    box-shadow: none;\n",
              "  }\n",
              "\n",
              "  .colab-df-spinner {\n",
              "    border: 2px solid var(--fill-color);\n",
              "    border-color: transparent;\n",
              "    border-bottom-color: var(--fill-color);\n",
              "    animation:\n",
              "      spin 1s steps(1) infinite;\n",
              "  }\n",
              "\n",
              "  @keyframes spin {\n",
              "    0% {\n",
              "      border-color: transparent;\n",
              "      border-bottom-color: var(--fill-color);\n",
              "      border-left-color: var(--fill-color);\n",
              "    }\n",
              "    20% {\n",
              "      border-color: transparent;\n",
              "      border-left-color: var(--fill-color);\n",
              "      border-top-color: var(--fill-color);\n",
              "    }\n",
              "    30% {\n",
              "      border-color: transparent;\n",
              "      border-left-color: var(--fill-color);\n",
              "      border-top-color: var(--fill-color);\n",
              "      border-right-color: var(--fill-color);\n",
              "    }\n",
              "    40% {\n",
              "      border-color: transparent;\n",
              "      border-right-color: var(--fill-color);\n",
              "      border-top-color: var(--fill-color);\n",
              "    }\n",
              "    60% {\n",
              "      border-color: transparent;\n",
              "      border-right-color: var(--fill-color);\n",
              "    }\n",
              "    80% {\n",
              "      border-color: transparent;\n",
              "      border-right-color: var(--fill-color);\n",
              "      border-bottom-color: var(--fill-color);\n",
              "    }\n",
              "    90% {\n",
              "      border-color: transparent;\n",
              "      border-bottom-color: var(--fill-color);\n",
              "    }\n",
              "  }\n",
              "</style>\n",
              "\n",
              "  <script>\n",
              "    async function quickchart(key) {\n",
              "      const quickchartButtonEl =\n",
              "        document.querySelector('#' + key + ' button');\n",
              "      quickchartButtonEl.disabled = true;  // To prevent multiple clicks.\n",
              "      quickchartButtonEl.classList.add('colab-df-spinner');\n",
              "      try {\n",
              "        const charts = await google.colab.kernel.invokeFunction(\n",
              "            'suggestCharts', [key], {});\n",
              "      } catch (error) {\n",
              "        console.error('Error during call to suggestCharts:', error);\n",
              "      }\n",
              "      quickchartButtonEl.classList.remove('colab-df-spinner');\n",
              "      quickchartButtonEl.classList.add('colab-df-quickchart-complete');\n",
              "    }\n",
              "    (() => {\n",
              "      let quickchartButtonEl =\n",
              "        document.querySelector('#df-e203da05-dd75-4530-83d0-8a5d54f5c5e5 button');\n",
              "      quickchartButtonEl.style.display =\n",
              "        google.colab.kernel.accessAllowed ? 'block' : 'none';\n",
              "    })();\n",
              "  </script>\n",
              "</div>\n",
              "\n",
              "    </div>\n",
              "  </div>\n"
            ]
          },
          "metadata": {},
          "execution_count": 69
        }
      ],
      "source": [
        "str_columns.head()"
      ]
    },
    {
      "cell_type": "code",
      "execution_count": null,
      "metadata": {
        "id": "SYZSHgxSer_3"
      },
      "outputs": [],
      "source": []
    }
  ],
  "metadata": {
    "colab": {
      "provenance": [],
      "toc_visible": true,
      "include_colab_link": true
    },
    "kernelspec": {
      "display_name": "Python 3",
      "name": "python3"
    },
    "language_info": {
      "name": "python"
    }
  },
  "nbformat": 4,
  "nbformat_minor": 0
}