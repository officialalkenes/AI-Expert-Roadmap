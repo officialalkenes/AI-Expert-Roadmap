{
  "metadata": {
    "kernelspec": {
      "language": "python",
      "display_name": "Python 3",
      "name": "python3"
    },
    "language_info": {
      "name": "python",
      "version": "3.7.6",
      "mimetype": "text/x-python",
      "codemirror_mode": {
        "name": "ipython",
        "version": 3
      },
      "pygments_lexer": "ipython3",
      "nbconvert_exporter": "python",
      "file_extension": ".py"
    },
    "kaggle": {
      "accelerator": "none",
      "dataSources": [
        {
          "sourceId": 1940,
          "sourceType": "datasetVersion",
          "datasetId": 1069
        }
      ],
      "dockerImageVersionId": 30042,
      "isInternetEnabled": true,
      "language": "python",
      "sourceType": "notebook",
      "isGpuEnabled": false
    },
    "colab": {
      "provenance": [],
      "include_colab_link": true
    }
  },
  "nbformat_minor": 0,
  "nbformat": 4,
  "cells": [
    {
      "cell_type": "markdown",
      "metadata": {
        "id": "view-in-github",
        "colab_type": "text"
      },
      "source": [
        "<a href=\"https://colab.research.google.com/github/officialalkenes/AI-Expert-Roadmap/blob/main/mobile_payment_fraud_detection.ipynb\" target=\"_parent\"><img src=\"https://colab.research.google.com/assets/colab-badge.svg\" alt=\"Open In Colab\"/></a>"
      ]
    },
    {
      "cell_type": "markdown",
      "source": [
        "# Task for Today  \n",
        "\n",
        "***\n",
        "\n",
        "## Mobile Payment Fraud Detection  \n",
        "\n",
        "Given *synthetic data about mobile transactions*, let's try to detect the presence of **fraudulent activity**.\n",
        "\n",
        "We will use a multi-input TensorFlow neural network to make our predictions."
      ],
      "metadata": {
        "_uuid": "8f2839f25d086af736a60e9eeb907d3b93b6e0e5",
        "_cell_guid": "b1076dfc-b9ad-4769-8c92-a6c4dae69d19",
        "trusted": true,
        "id": "N-BIc-5iwS1f"
      }
    },
    {
      "cell_type": "markdown",
      "source": [
        "# Getting Started"
      ],
      "metadata": {
        "id": "kp8kP1AbwS1j"
      }
    },
    {
      "cell_type": "code",
      "source": [
        "import numpy as np\n",
        "import pandas as pd\n",
        "\n",
        "import matplotlib.pyplot as plt\n",
        "import seaborn as sns\n",
        "\n",
        "from sklearn.preprocessing import StandardScaler\n",
        "from sklearn.model_selection import train_test_split\n",
        "\n",
        "import tensorflow as tf\n",
        "\n",
        "from sklearn.metrics import confusion_matrix, classification_report"
      ],
      "metadata": {
        "_uuid": "d629ff2d2480ee46fbb7e2d37f6b5fab8052498a",
        "_cell_guid": "79c7e3d0-c299-4dcb-8224-4455121ee9b0",
        "execution": {
          "iopub.status.busy": "2024-04-02T10:55:45.038139Z",
          "iopub.execute_input": "2024-04-02T10:55:45.038878Z",
          "iopub.status.idle": "2024-04-02T10:55:53.202381Z",
          "shell.execute_reply.started": "2024-04-02T10:55:45.038814Z",
          "shell.execute_reply": "2024-04-02T10:55:53.201128Z"
        },
        "trusted": true,
        "id": "ZcOI8fDLwS1k"
      },
      "execution_count": null,
      "outputs": []
    },
    {
      "cell_type": "code",
      "source": [
        "data = pd.read_csv('../input/paysim1/PS_20174392719_1491204439457_log.csv', nrows=50000)"
      ],
      "metadata": {
        "execution": {
          "iopub.status.busy": "2024-04-02T10:55:53.204151Z",
          "iopub.execute_input": "2024-04-02T10:55:53.204611Z",
          "iopub.status.idle": "2024-04-02T10:55:53.421967Z",
          "shell.execute_reply.started": "2024-04-02T10:55:53.204577Z",
          "shell.execute_reply": "2024-04-02T10:55:53.420738Z"
        },
        "trusted": true,
        "id": "aC6DeXFzwS1m"
      },
      "execution_count": null,
      "outputs": []
    },
    {
      "cell_type": "code",
      "source": [
        "data"
      ],
      "metadata": {
        "execution": {
          "iopub.status.busy": "2024-04-02T10:55:53.423526Z",
          "iopub.execute_input": "2024-04-02T10:55:53.423893Z",
          "iopub.status.idle": "2024-04-02T10:55:53.473330Z",
          "shell.execute_reply.started": "2024-04-02T10:55:53.423858Z",
          "shell.execute_reply": "2024-04-02T10:55:53.472461Z"
        },
        "trusted": true,
        "id": "cCsjW-aHwS1m"
      },
      "execution_count": null,
      "outputs": []
    },
    {
      "cell_type": "code",
      "source": [
        "data.info()"
      ],
      "metadata": {
        "execution": {
          "iopub.status.busy": "2024-04-02T10:55:53.474940Z",
          "iopub.execute_input": "2024-04-02T10:55:53.475506Z",
          "iopub.status.idle": "2024-04-02T10:55:53.510876Z",
          "shell.execute_reply.started": "2024-04-02T10:55:53.475467Z",
          "shell.execute_reply": "2024-04-02T10:55:53.509632Z"
        },
        "trusted": true,
        "id": "xlw4fXb6wS1n"
      },
      "execution_count": null,
      "outputs": []
    },
    {
      "cell_type": "code",
      "source": [
        "data['isFraud'].value_counts()"
      ],
      "metadata": {
        "execution": {
          "iopub.status.busy": "2024-04-02T10:55:53.515516Z",
          "iopub.execute_input": "2024-04-02T10:55:53.515965Z",
          "iopub.status.idle": "2024-04-02T10:55:53.526164Z",
          "shell.execute_reply.started": "2024-04-02T10:55:53.515925Z",
          "shell.execute_reply": "2024-04-02T10:55:53.524850Z"
        },
        "trusted": true,
        "id": "of-vKFr7wS1n"
      },
      "execution_count": null,
      "outputs": []
    },
    {
      "cell_type": "markdown",
      "source": [
        "# Preprocessing"
      ],
      "metadata": {
        "id": "yuzhtD0ywS1o"
      }
    },
    {
      "cell_type": "code",
      "source": [
        "{column: len(data[column].unique()) for column in data.columns}"
      ],
      "metadata": {
        "execution": {
          "iopub.status.busy": "2024-04-02T10:55:53.530693Z",
          "iopub.execute_input": "2024-04-02T10:55:53.531081Z",
          "iopub.status.idle": "2024-04-02T10:55:53.573454Z",
          "shell.execute_reply.started": "2024-04-02T10:55:53.531045Z",
          "shell.execute_reply": "2024-04-02T10:55:53.572268Z"
        },
        "trusted": true,
        "id": "dHHI0CtlwS1o"
      },
      "execution_count": null,
      "outputs": []
    },
    {
      "cell_type": "code",
      "source": [
        "data['type'].unique()"
      ],
      "metadata": {
        "execution": {
          "iopub.status.busy": "2024-04-02T10:55:53.575015Z",
          "iopub.execute_input": "2024-04-02T10:55:53.575376Z",
          "iopub.status.idle": "2024-04-02T10:55:53.587121Z",
          "shell.execute_reply.started": "2024-04-02T10:55:53.575344Z",
          "shell.execute_reply": "2024-04-02T10:55:53.585954Z"
        },
        "trusted": true,
        "id": "ALby1qVNwS1o"
      },
      "execution_count": null,
      "outputs": []
    },
    {
      "cell_type": "code",
      "source": [
        "pd.get_dummies(data['type'], prefix='tp')"
      ],
      "metadata": {
        "execution": {
          "iopub.status.busy": "2024-04-02T10:55:53.588939Z",
          "iopub.execute_input": "2024-04-02T10:55:53.589405Z",
          "iopub.status.idle": "2024-04-02T10:55:53.615963Z",
          "shell.execute_reply.started": "2024-04-02T10:55:53.589358Z",
          "shell.execute_reply": "2024-04-02T10:55:53.614926Z"
        },
        "trusted": true,
        "id": "j-IyjqW7wS1p"
      },
      "execution_count": null,
      "outputs": []
    },
    {
      "cell_type": "code",
      "source": [
        "data"
      ],
      "metadata": {
        "execution": {
          "iopub.status.busy": "2024-04-02T10:55:53.617528Z",
          "iopub.execute_input": "2024-04-02T10:55:53.617898Z",
          "iopub.status.idle": "2024-04-02T10:55:53.648535Z",
          "shell.execute_reply.started": "2024-04-02T10:55:53.617862Z",
          "shell.execute_reply": "2024-04-02T10:55:53.647468Z"
        },
        "trusted": true,
        "id": "4KZbLj4WwS1p"
      },
      "execution_count": null,
      "outputs": []
    },
    {
      "cell_type": "code",
      "source": [
        "def onehot_encode(df, column, prefix):\n",
        "    df = df.copy()\n",
        "    dummies = pd.get_dummies(df[column], prefix=prefix)\n",
        "    df = pd.concat([df, dummies], axis=1)\n",
        "    df = df.drop(column, axis=1)\n",
        "    return df"
      ],
      "metadata": {
        "execution": {
          "iopub.status.busy": "2024-04-02T10:55:53.649914Z",
          "iopub.execute_input": "2024-04-02T10:55:53.650236Z",
          "iopub.status.idle": "2024-04-02T10:55:53.663355Z",
          "shell.execute_reply.started": "2024-04-02T10:55:53.650204Z",
          "shell.execute_reply": "2024-04-02T10:55:53.662363Z"
        },
        "trusted": true,
        "id": "fqXZ5Mx1wS1q"
      },
      "execution_count": null,
      "outputs": []
    },
    {
      "cell_type": "code",
      "source": [
        "def preprocess_inputs(df):\n",
        "    df = df.copy()\n",
        "\n",
        "\n",
        "    # Drop step, nameOrig, and isFlaggedFraud columns\n",
        "    df = df.drop(['step', 'nameOrig', 'isFlaggedFraud'], axis=1)\n",
        "\n",
        "\n",
        "    # One-hot encode the type column\n",
        "    df = onehot_encode(df, column='type', prefix='tp')\n",
        "\n",
        "    y = df['isFraud'].copy()\n",
        "    X = df.drop('isFraud', axis=1).copy()\n",
        "\n",
        "\n",
        "    # Train-test split\n",
        "    X_train, X_test, y_train, y_test = train_test_split(X, y, train_size=0.7, random_state=123)\n",
        "\n",
        "\n",
        "    # Create a tokenizer and fit it to the customer data\n",
        "    tokenizer = tf.keras.preprocessing.text.Tokenizer()\n",
        "    tokenizer.fit_on_texts(X_train['nameDest'])\n",
        "\n",
        "    print(\"Total # of customers:\", len(tokenizer.word_index))\n",
        "\n",
        "\n",
        "    # Create tokenized customer lists\n",
        "    customers_train = tokenizer.texts_to_sequences(X_train['nameDest'])\n",
        "    customers_test = tokenizer.texts_to_sequences(X_test['nameDest'])\n",
        "\n",
        "\n",
        "    # Pad sequences\n",
        "    customers_train = tf.keras.preprocessing.sequence.pad_sequences(customers_train, maxlen=1)\n",
        "    customers_test = tf.keras.preprocessing.sequence.pad_sequences(customers_test, maxlen=1)\n",
        "\n",
        "\n",
        "    # Drop nameDest column\n",
        "    X_train = X_train.drop('nameDest', axis=1)\n",
        "    X_test = X_test.drop('nameDest', axis=1)\n",
        "\n",
        "\n",
        "    # Scale X with a standard scaler\n",
        "    scaler = StandardScaler()\n",
        "    scaler.fit(X_train)\n",
        "\n",
        "    X_train = pd.DataFrame(scaler.transform(X_train), columns=X_train.columns)\n",
        "    X_test = pd.DataFrame(scaler.transform(X_test), columns=X_test.columns)\n",
        "\n",
        "\n",
        "    return X_train, X_test, customers_train, customers_test, y_train, y_test"
      ],
      "metadata": {
        "execution": {
          "iopub.status.busy": "2024-04-02T10:55:53.666534Z",
          "iopub.execute_input": "2024-04-02T10:55:53.666896Z",
          "iopub.status.idle": "2024-04-02T10:55:53.683564Z",
          "shell.execute_reply.started": "2024-04-02T10:55:53.666861Z",
          "shell.execute_reply": "2024-04-02T10:55:53.682495Z"
        },
        "trusted": true,
        "id": "fAAyrzFCwS1q"
      },
      "execution_count": null,
      "outputs": []
    },
    {
      "cell_type": "code",
      "source": [
        "X_train, X_test, customers_train, customers_test, y_train, y_test = preprocess_inputs(data)"
      ],
      "metadata": {
        "execution": {
          "iopub.status.busy": "2024-04-02T10:55:53.685264Z",
          "iopub.execute_input": "2024-04-02T10:55:53.685577Z",
          "iopub.status.idle": "2024-04-02T10:55:54.997383Z",
          "shell.execute_reply.started": "2024-04-02T10:55:53.685547Z",
          "shell.execute_reply": "2024-04-02T10:55:54.996520Z"
        },
        "trusted": true,
        "id": "ukbesBSEwS1s"
      },
      "execution_count": null,
      "outputs": []
    },
    {
      "cell_type": "code",
      "source": [
        "customers_train"
      ],
      "metadata": {
        "execution": {
          "iopub.status.busy": "2024-04-02T10:55:54.998605Z",
          "iopub.execute_input": "2024-04-02T10:55:54.998933Z",
          "iopub.status.idle": "2024-04-02T10:55:55.006979Z",
          "shell.execute_reply.started": "2024-04-02T10:55:54.998901Z",
          "shell.execute_reply": "2024-04-02T10:55:55.005848Z"
        },
        "trusted": true,
        "id": "AdkMCnSWwS1s"
      },
      "execution_count": null,
      "outputs": []
    },
    {
      "cell_type": "code",
      "source": [
        "X_train"
      ],
      "metadata": {
        "execution": {
          "iopub.status.busy": "2024-04-02T10:55:55.008590Z",
          "iopub.execute_input": "2024-04-02T10:55:55.008981Z",
          "iopub.status.idle": "2024-04-02T10:55:55.037354Z",
          "shell.execute_reply.started": "2024-04-02T10:55:55.008922Z",
          "shell.execute_reply": "2024-04-02T10:55:55.036252Z"
        },
        "trusted": true,
        "id": "KYDzHeXAwS1t"
      },
      "execution_count": null,
      "outputs": []
    },
    {
      "cell_type": "code",
      "source": [
        "y_train"
      ],
      "metadata": {
        "execution": {
          "iopub.status.busy": "2024-04-02T10:55:55.039038Z",
          "iopub.execute_input": "2024-04-02T10:55:55.039527Z",
          "iopub.status.idle": "2024-04-02T10:55:55.052570Z",
          "shell.execute_reply.started": "2024-04-02T10:55:55.039408Z",
          "shell.execute_reply": "2024-04-02T10:55:55.051547Z"
        },
        "trusted": true,
        "id": "siGl_dfTwS1t"
      },
      "execution_count": null,
      "outputs": []
    },
    {
      "cell_type": "markdown",
      "source": [
        "# Handling Class Imbalance"
      ],
      "metadata": {
        "id": "gyeYTp20wS1t"
      }
    },
    {
      "cell_type": "code",
      "source": [
        "train_df = pd.concat([X_train, pd.Series(np.squeeze(customers_train), name='customer'), y_train.reset_index(drop=True)], axis=1)"
      ],
      "metadata": {
        "execution": {
          "iopub.status.busy": "2024-04-02T10:55:55.054151Z",
          "iopub.execute_input": "2024-04-02T10:55:55.054505Z",
          "iopub.status.idle": "2024-04-02T10:55:55.063408Z",
          "shell.execute_reply.started": "2024-04-02T10:55:55.054472Z",
          "shell.execute_reply": "2024-04-02T10:55:55.062393Z"
        },
        "trusted": true,
        "id": "OC85bHkBwS1u"
      },
      "execution_count": null,
      "outputs": []
    },
    {
      "cell_type": "code",
      "source": [
        "train_df"
      ],
      "metadata": {
        "execution": {
          "iopub.status.busy": "2024-04-02T10:55:55.064595Z",
          "iopub.execute_input": "2024-04-02T10:55:55.065040Z",
          "iopub.status.idle": "2024-04-02T10:55:55.096964Z",
          "shell.execute_reply.started": "2024-04-02T10:55:55.065003Z",
          "shell.execute_reply": "2024-04-02T10:55:55.095923Z"
        },
        "trusted": true,
        "id": "Ue-54MfjwS1u"
      },
      "execution_count": null,
      "outputs": []
    },
    {
      "cell_type": "code",
      "source": [
        "train_df['isFraud'].value_counts()"
      ],
      "metadata": {
        "execution": {
          "iopub.status.busy": "2024-04-02T10:55:55.098585Z",
          "iopub.execute_input": "2024-04-02T10:55:55.099078Z",
          "iopub.status.idle": "2024-04-02T10:55:55.109534Z",
          "shell.execute_reply.started": "2024-04-02T10:55:55.099038Z",
          "shell.execute_reply": "2024-04-02T10:55:55.108312Z"
        },
        "trusted": true,
        "id": "sco-IdnvwS1u"
      },
      "execution_count": null,
      "outputs": []
    },
    {
      "cell_type": "code",
      "source": [
        "print(\"Number of examples to sample:\", 34929 - 71)"
      ],
      "metadata": {
        "execution": {
          "iopub.status.busy": "2024-04-02T10:55:55.111075Z",
          "iopub.execute_input": "2024-04-02T10:55:55.111524Z",
          "iopub.status.idle": "2024-04-02T10:55:55.117855Z",
          "shell.execute_reply.started": "2024-04-02T10:55:55.111476Z",
          "shell.execute_reply": "2024-04-02T10:55:55.116869Z"
        },
        "trusted": true,
        "id": "WnQr777jwS1v"
      },
      "execution_count": null,
      "outputs": []
    },
    {
      "cell_type": "code",
      "source": [
        "oversampled_data = train_df.query(\"isFraud == 1\").sample(34858, replace=True, random_state=123)"
      ],
      "metadata": {
        "execution": {
          "iopub.status.busy": "2024-04-02T10:55:55.119473Z",
          "iopub.execute_input": "2024-04-02T10:55:55.119941Z",
          "iopub.status.idle": "2024-04-02T10:55:55.163183Z",
          "shell.execute_reply.started": "2024-04-02T10:55:55.119895Z",
          "shell.execute_reply": "2024-04-02T10:55:55.162249Z"
        },
        "trusted": true,
        "id": "n-r6WkUQwS1v"
      },
      "execution_count": null,
      "outputs": []
    },
    {
      "cell_type": "code",
      "source": [
        "oversampled_data"
      ],
      "metadata": {
        "execution": {
          "iopub.status.busy": "2024-04-02T10:55:55.164528Z",
          "iopub.execute_input": "2024-04-02T10:55:55.165178Z",
          "iopub.status.idle": "2024-04-02T10:55:55.191575Z",
          "shell.execute_reply.started": "2024-04-02T10:55:55.165131Z",
          "shell.execute_reply": "2024-04-02T10:55:55.190474Z"
        },
        "trusted": true,
        "id": "fBPCXVMtwS1w"
      },
      "execution_count": null,
      "outputs": []
    },
    {
      "cell_type": "code",
      "source": [
        "train_df = pd.concat([train_df, oversampled_data], axis=0).sample(frac=1.0, random_state=123).reset_index(drop=True)"
      ],
      "metadata": {
        "execution": {
          "iopub.status.busy": "2024-04-02T10:55:55.193225Z",
          "iopub.execute_input": "2024-04-02T10:55:55.193896Z",
          "iopub.status.idle": "2024-04-02T10:55:55.218804Z",
          "shell.execute_reply.started": "2024-04-02T10:55:55.193847Z",
          "shell.execute_reply": "2024-04-02T10:55:55.217936Z"
        },
        "trusted": true,
        "id": "nGEV4w2YwS1w"
      },
      "execution_count": null,
      "outputs": []
    },
    {
      "cell_type": "code",
      "source": [
        "train_df"
      ],
      "metadata": {
        "execution": {
          "iopub.status.busy": "2024-04-02T10:55:55.220166Z",
          "iopub.execute_input": "2024-04-02T10:55:55.220791Z",
          "iopub.status.idle": "2024-04-02T10:55:55.245868Z",
          "shell.execute_reply.started": "2024-04-02T10:55:55.220734Z",
          "shell.execute_reply": "2024-04-02T10:55:55.244773Z"
        },
        "trusted": true,
        "id": "g1sFjQjIwS1w"
      },
      "execution_count": null,
      "outputs": []
    },
    {
      "cell_type": "code",
      "source": [
        "train_df['isFraud'].value_counts()"
      ],
      "metadata": {
        "execution": {
          "iopub.status.busy": "2024-04-02T10:55:55.247203Z",
          "iopub.execute_input": "2024-04-02T10:55:55.247912Z",
          "iopub.status.idle": "2024-04-02T10:55:55.255383Z",
          "shell.execute_reply.started": "2024-04-02T10:55:55.247862Z",
          "shell.execute_reply": "2024-04-02T10:55:55.254403Z"
        },
        "trusted": true,
        "id": "e4RHO2m_wS1x"
      },
      "execution_count": null,
      "outputs": []
    },
    {
      "cell_type": "code",
      "source": [
        "customers_train = train_df['customer'].copy()\n",
        "y_train = train_df['isFraud'].copy()\n",
        "X_train = train_df.drop(['customer', 'isFraud'], axis=1).copy()"
      ],
      "metadata": {
        "execution": {
          "iopub.status.busy": "2024-04-02T10:55:55.256479Z",
          "iopub.execute_input": "2024-04-02T10:55:55.256775Z",
          "iopub.status.idle": "2024-04-02T10:55:55.270906Z",
          "shell.execute_reply.started": "2024-04-02T10:55:55.256738Z",
          "shell.execute_reply": "2024-04-02T10:55:55.269944Z"
        },
        "trusted": true,
        "id": "fLiNziVVwS1x"
      },
      "execution_count": null,
      "outputs": []
    },
    {
      "cell_type": "markdown",
      "source": [
        "# Modeling"
      ],
      "metadata": {
        "id": "JxKB-qANwS1x"
      }
    },
    {
      "cell_type": "code",
      "source": [
        "# Inputs\n",
        "X_inputs = tf.keras.Input(shape=(10,), name='X_input')\n",
        "customer_inputs = tf.keras.Input(shape=(1,), name='customer_input')\n",
        "\n",
        "# X\n",
        "X_dense1 = tf.keras.layers.Dense(64, activation='relu', name='X_dense1')(X_inputs)\n",
        "X_dense2 = tf.keras.layers.Dense(64, activation='relu', name='X_dense2')(X_dense1)\n",
        "\n",
        "# customers\n",
        "customer_embedding = tf.keras.layers.Embedding(\n",
        "    input_dim=21018,\n",
        "    output_dim=64,\n",
        "    input_length=1,\n",
        "    name='customer_embedding'\n",
        ")(customer_inputs)\n",
        "customer_flatten = tf.keras.layers.Flatten(name='customer_flatten')(customer_embedding)\n",
        "\n",
        "# Concatenate\n",
        "concat = tf.keras.layers.concatenate([X_dense2, customer_flatten], name='concatenate')\n",
        "\n",
        "# Output\n",
        "outputs = tf.keras.layers.Dense(1, activation='sigmoid', name='output')(concat)\n",
        "\n",
        "\n",
        "model = tf.keras.Model(inputs=[X_inputs, customer_inputs], outputs=outputs)\n",
        "\n",
        "print(model.summary())\n",
        "tf.keras.utils.plot_model(model)"
      ],
      "metadata": {
        "execution": {
          "iopub.status.busy": "2024-04-02T10:55:55.271980Z",
          "iopub.execute_input": "2024-04-02T10:55:55.272279Z",
          "iopub.status.idle": "2024-04-02T10:55:56.163252Z",
          "shell.execute_reply.started": "2024-04-02T10:55:55.272249Z",
          "shell.execute_reply": "2024-04-02T10:55:56.162104Z"
        },
        "trusted": true,
        "id": "7_DdHflIwS1y"
      },
      "execution_count": null,
      "outputs": []
    },
    {
      "cell_type": "code",
      "source": [
        "model.compile(\n",
        "    optimizer='adam',\n",
        "    loss='binary_crossentropy',\n",
        "    metrics=[\n",
        "        'accuracy',\n",
        "        tf.keras.metrics.AUC(name='auc')\n",
        "    ]\n",
        ")"
      ],
      "metadata": {
        "execution": {
          "iopub.status.busy": "2024-04-02T10:55:56.165446Z",
          "iopub.execute_input": "2024-04-02T10:55:56.165836Z",
          "iopub.status.idle": "2024-04-02T10:55:56.194390Z",
          "shell.execute_reply.started": "2024-04-02T10:55:56.165778Z",
          "shell.execute_reply": "2024-04-02T10:55:56.193149Z"
        },
        "trusted": true,
        "id": "gDbU5V5MwS1y"
      },
      "execution_count": null,
      "outputs": []
    },
    {
      "cell_type": "markdown",
      "source": [
        "# Training"
      ],
      "metadata": {
        "id": "MmUleB3DwS1z"
      }
    },
    {
      "cell_type": "code",
      "source": [
        "history = model.fit(\n",
        "    [X_train, customers_train],\n",
        "    y_train,\n",
        "    validation_split=0.2,\n",
        "    class_weight={\n",
        "        0: 0.25,\n",
        "        1: 4.0\n",
        "    },\n",
        "    batch_size=32,\n",
        "    epochs=10,\n",
        "    callbacks=[\n",
        "        tf.keras.callbacks.EarlyStopping(\n",
        "            monitor='val_loss',\n",
        "            patience=2,\n",
        "            restore_best_weights=True\n",
        "        )\n",
        "    ]\n",
        ")"
      ],
      "metadata": {
        "execution": {
          "iopub.status.busy": "2024-04-02T10:55:56.195973Z",
          "iopub.execute_input": "2024-04-02T10:55:56.196422Z",
          "iopub.status.idle": "2024-04-02T10:58:54.332269Z",
          "shell.execute_reply.started": "2024-04-02T10:55:56.196374Z",
          "shell.execute_reply": "2024-04-02T10:58:54.331405Z"
        },
        "trusted": true,
        "id": "RgsJowJuwS10"
      },
      "execution_count": null,
      "outputs": []
    },
    {
      "cell_type": "markdown",
      "source": [
        "# Results"
      ],
      "metadata": {
        "id": "UerDge9pwS10"
      }
    },
    {
      "cell_type": "code",
      "source": [
        "results = model.evaluate([X_test, customers_test], y_test, verbose=0)\n",
        "print(\"Test Accuracy: {:.3f}%\".format(results[1] * 100))\n",
        "print(\"     Test AUC: {:.3f}\".format(results[2] * 100))"
      ],
      "metadata": {
        "execution": {
          "iopub.status.busy": "2024-04-02T10:58:54.333400Z",
          "iopub.execute_input": "2024-04-02T10:58:54.333716Z",
          "iopub.status.idle": "2024-04-02T10:58:55.319547Z",
          "shell.execute_reply.started": "2024-04-02T10:58:54.333685Z",
          "shell.execute_reply": "2024-04-02T10:58:55.318617Z"
        },
        "trusted": true,
        "id": "072xQWufwS11"
      },
      "execution_count": null,
      "outputs": []
    },
    {
      "cell_type": "code",
      "source": [
        "y_true = np.array(y_test)\n",
        "\n",
        "y_pred = np.squeeze(model.predict([X_test, customers_test]))\n",
        "y_pred = (y_pred >= 0.5).astype(np.int)\n",
        "\n",
        "\n",
        "cm = confusion_matrix(y_true, y_pred)\n",
        "clr = classification_report(y_true, y_pred, target_names=[\"Not Fraud\", \"Fraud\"])"
      ],
      "metadata": {
        "execution": {
          "iopub.status.busy": "2024-04-02T10:58:55.320863Z",
          "iopub.execute_input": "2024-04-02T10:58:55.321166Z",
          "iopub.status.idle": "2024-04-02T10:58:55.791218Z",
          "shell.execute_reply.started": "2024-04-02T10:58:55.321135Z",
          "shell.execute_reply": "2024-04-02T10:58:55.790284Z"
        },
        "trusted": true,
        "id": "P48IKoklwS11"
      },
      "execution_count": null,
      "outputs": []
    },
    {
      "cell_type": "code",
      "source": [
        "plt.figure(figsize=(8, 8))\n",
        "sns.heatmap(cm, annot=True, vmin=0, fmt='g', cbar=False, cmap='Blues')\n",
        "plt.xticks(np.arange(2) + 0.5, [\"Not Fraud\", \"Fraud\"])\n",
        "plt.yticks(np.arange(2) + 0.5, [\"Not Fraud\", \"Fraud\"])\n",
        "plt.xlabel(\"Predicted\")\n",
        "plt.ylabel(\"Actual\")\n",
        "plt.title(\"Confusion Matrix\")\n",
        "plt.show()"
      ],
      "metadata": {
        "execution": {
          "iopub.status.busy": "2024-04-02T10:58:55.792571Z",
          "iopub.execute_input": "2024-04-02T10:58:55.793105Z",
          "iopub.status.idle": "2024-04-02T10:58:55.972489Z",
          "shell.execute_reply.started": "2024-04-02T10:58:55.793069Z",
          "shell.execute_reply": "2024-04-02T10:58:55.971269Z"
        },
        "trusted": true,
        "id": "qyJ-AkanwS12"
      },
      "execution_count": null,
      "outputs": []
    },
    {
      "cell_type": "code",
      "source": [
        "print(f\"Classification Report:\\n----------------------\\n clr\")"
      ],
      "metadata": {
        "execution": {
          "iopub.status.busy": "2024-04-02T10:58:55.977639Z",
          "iopub.execute_input": "2024-04-02T10:58:55.978012Z",
          "iopub.status.idle": "2024-04-02T10:58:55.982973Z",
          "shell.execute_reply.started": "2024-04-02T10:58:55.977977Z",
          "shell.execute_reply": "2024-04-02T10:58:55.981967Z"
        },
        "trusted": true,
        "id": "aWMhKX4lwS12"
      },
      "execution_count": null,
      "outputs": []
    }
  ]
}